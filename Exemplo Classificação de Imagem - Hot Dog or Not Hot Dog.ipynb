{
  "cells": [
    {
      "metadata": {
        "_uuid": "8f2839f25d086af736a60e9eeb907d3b93b6e0e5",
        "_cell_guid": "b1076dfc-b9ad-4769-8c92-a6c4dae69d19",
        "trusted": true,
        "collapsed": true
      },
      "cell_type": "code",
      "source": "# This Python 3 environment comes with many helpful analytics libraries installed\n# It is defined by the kaggle/python docker image: https://github.com/kaggle/docker-python\n# For example, here's several helpful packages to load in \n\nimport numpy as np # linear algebra\nimport pandas as pd # data processing, CSV file I/O (e.g. pd.read_csv)\n\nfrom glob import glob\nimport cv2\n\nfrom keras.utils import to_categorical\n\n# Input data files are available in the \"../input/\" directory.\n# For example, running this (by clicking run or pressing Shift+Enter) will list the files in the input directory\n\nimport os\nprint(os.listdir(\"../input\"))\n\n# Any results you write to the current directory are saved as output.",
      "execution_count": null,
      "outputs": []
    },
    {
      "metadata": {
        "trusted": true,
        "_uuid": "5a195aa411b17bce344dc31ae5252fe36965f118",
        "collapsed": true
      },
      "cell_type": "code",
      "source": "train_data = []\ntrain_labels = []\n\nfor i in glob(\"../input/seefood/train/*/*\"):\n    aux = i.split('/')[4]\n    img = cv2.imread(i)[:,:,::-1]\n    img = cv2.resize(img, (224, 224))\n    img = np.expand_dims(img, 0)\n    \n    train_data.append(img)\n    if aux == 'not_hot_dog':\n        train_labels.append(0)\n    else:\n        train_labels.append(1)",
      "execution_count": null,
      "outputs": []
    },
    {
      "metadata": {
        "_cell_guid": "79c7e3d0-c299-4dcb-8224-4455121ee9b0",
        "_uuid": "d629ff2d2480ee46fbb7e2d37f6b5fab8052498a",
        "trusted": true,
        "collapsed": true
      },
      "cell_type": "code",
      "source": "test_data = []\ntest_labels = []\n\nfor i in glob(\"../input/seefood/test/*/*\"):\n    aux = i.split('/')[4]\n    img = cv2.imread(i)[:,:,::-1]\n    img = cv2.resize(img, (224, 224))\n    img = np.expand_dims(img, 0)\n    \n    test_data.append(img)\n    if aux == 'not_hot_dog':\n        test_labels.append(0)\n    else:\n        test_labels.append(1)",
      "execution_count": null,
      "outputs": []
    },
    {
      "metadata": {
        "trusted": true,
        "_uuid": "cbd77ab980789ab56ef0bed0f6ace123d3c25630",
        "collapsed": true
      },
      "cell_type": "code",
      "source": "train_data = np.vstack(train_data)\ntest_data = np.vstack(test_data)\n\ntrain_labels = np.array(train_labels)\ntest_labels = np.array(test_labels)",
      "execution_count": null,
      "outputs": []
    },
    {
      "metadata": {
        "trusted": true,
        "collapsed": true,
        "_uuid": "be24bc0d152b0d565932748229bc51165fbdd83a"
      },
      "cell_type": "code",
      "source": "train_labels = to_categorical(train_labels)\ntest_labels = to_categorical(test_labels)",
      "execution_count": null,
      "outputs": []
    },
    {
      "metadata": {
        "trusted": true,
        "_uuid": "81e24419be1b31983b72b200306023e4372ee1bd",
        "collapsed": true
      },
      "cell_type": "code",
      "source": "train_data.shape, test_data.shape",
      "execution_count": null,
      "outputs": []
    },
    {
      "metadata": {
        "_uuid": "b037b9b32d237bfa609b0926060056ba85ef1987"
      },
      "cell_type": "markdown",
      "source": "<h2>Visualização</h2>"
    },
    {
      "metadata": {
        "trusted": true,
        "collapsed": true,
        "_uuid": "02e6dec855ad5720409bd9822149e68ce0b562e0"
      },
      "cell_type": "code",
      "source": "import matplotlib.pyplot as plt\n%matplotlib inline",
      "execution_count": null,
      "outputs": []
    },
    {
      "metadata": {
        "trusted": true,
        "_uuid": "4befb547673e18f76a9420e9aa64d226b375a25f",
        "collapsed": true
      },
      "cell_type": "code",
      "source": "plt.imshow(train_data[1]), print(train_labels[1])",
      "execution_count": null,
      "outputs": []
    },
    {
      "metadata": {
        "trusted": true,
        "_uuid": "fd51a9c49d6a25d7eb2f73f83c2b797e56cd2202",
        "collapsed": true
      },
      "cell_type": "code",
      "source": "np.count_nonzero(train_labels == 1), np.count_nonzero(train_labels == 0)",
      "execution_count": null,
      "outputs": []
    },
    {
      "metadata": {
        "_uuid": "5e8ebc1d74adb1cd8303579ca674e6d05a9647ac"
      },
      "cell_type": "markdown",
      "source": "<h2>Data Generator</h2>"
    },
    {
      "metadata": {
        "trusted": true,
        "collapsed": true,
        "_uuid": "94cdbd4fda6adbd9a69a84ca33b1f346450cf9fa"
      },
      "cell_type": "code",
      "source": "from keras.preprocessing.image import ImageDataGenerator",
      "execution_count": null,
      "outputs": []
    },
    {
      "metadata": {
        "trusted": true,
        "collapsed": true,
        "_uuid": "ea72a0e0a17d59c56832afee428dacc08816881b"
      },
      "cell_type": "code",
      "source": "datagen = ImageDataGenerator(\n    featurewise_center=True,\n    featurewise_std_normalization=True,\n    rotation_range=20,\n    width_shift_range=0.2,\n    height_shift_range=0.2,\n    horizontal_flip=True)",
      "execution_count": null,
      "outputs": []
    },
    {
      "metadata": {
        "trusted": true,
        "collapsed": true,
        "_uuid": "cd8d60afe57aa44ec3e27b81471cf86c42e384f5"
      },
      "cell_type": "code",
      "source": "datagen.fit(train_data)",
      "execution_count": null,
      "outputs": []
    },
    {
      "metadata": {
        "_uuid": "3104d91e738e4dc2c72323da81486a945321500e"
      },
      "cell_type": "markdown",
      "source": "<h2>Normalização</h2>"
    },
    {
      "metadata": {
        "trusted": true,
        "collapsed": true,
        "_uuid": "89ef82471aefb5782a0be8ebe7e8be16ad67f55c"
      },
      "cell_type": "code",
      "source": "from __future__ import division",
      "execution_count": null,
      "outputs": []
    },
    {
      "metadata": {
        "trusted": true,
        "_uuid": "b285c000537c437b3e15ed52cd460a8ae789c98a",
        "collapsed": true
      },
      "cell_type": "code",
      "source": "train_data = train_data / 255\ntest_data = test_data / 255",
      "execution_count": null,
      "outputs": []
    },
    {
      "metadata": {
        "_uuid": "be1efaf98796f431ddb2b981724c71cf4c2df435"
      },
      "cell_type": "markdown",
      "source": "<h2>Modelo CNN</h2>"
    },
    {
      "metadata": {
        "trusted": true,
        "_uuid": "9d5e4c7f63a3ffe4298f313ebe0694d4e5ff9cd3",
        "collapsed": true
      },
      "cell_type": "code",
      "source": "from keras.models import Model\nfrom keras.layers import *\nfrom keras.applications import MobileNet",
      "execution_count": null,
      "outputs": []
    },
    {
      "metadata": {
        "trusted": true,
        "_uuid": "05baa5877bba5c153251dcf0bb5d329d2ee16969",
        "collapsed": true
      },
      "cell_type": "code",
      "source": "model = MobileNet(input_shape=(224, 224, 3), include_top=True, classes=2, weights=None)",
      "execution_count": null,
      "outputs": []
    },
    {
      "metadata": {
        "trusted": true,
        "_uuid": "9757af5f7f19741e3f597a4723c93a1d1bbc9ff1",
        "collapsed": true
      },
      "cell_type": "code",
      "source": "model.summary()",
      "execution_count": null,
      "outputs": []
    },
    {
      "metadata": {
        "trusted": true,
        "_uuid": "8b35fadcb31bc731b2fdb0a18571b2600bd46bc4",
        "collapsed": true
      },
      "cell_type": "code",
      "source": "# input_node = Input(shape=(224, 224, 3))\n# cnn1 = Conv2D(32, (3, 3), padding='same', activation='relu')(input_node)\n# pool1 = MaxPooling2D((2, 2), strides=(2, 2))(cnn1)\n\n# cnn2 = Conv2D(64, (3, 3), padding='same', activation='relu')(pool1)\n# pool2 = MaxPooling2D((2, 2), strides=(2, 2))(cnn2)\n\n# cnn3 = Conv2D(128, (3, 3), padding='same', activation='relu')(pool2)\n# pool3 = MaxPooling2D((2, 2), strides=(2, 2))(cnn3)\n\n# cnn4 = Conv2D(256, (3, 3), padding='same', activation='relu')(pool3)\n# pool4 = MaxPooling2D((2, 2), strides=(2, 2))(cnn4)\n\n# cnn5 = Conv2D(512, (3, 3), padding='same', activation='relu')(pool4)\n# pool5 = MaxPooling2D((2, 2), strides=(2, 2))(cnn5)\n\n# cnn6 = Conv2D(1024, (3, 3), padding='same', activation='relu')(pool5)\n# pool6 = MaxPooling2D((2, 2), strides=(2, 2))(cnn6)\n\n# flat = Flatten()(pool6)\n# fc1 = Dense(1024)(flat)\n# fc2 = Dense(1024)(fc1)\n# output_node = Dense(1, activation='sigmoid')(fc2)\n\n# model = Model(input_node, output_node)\n# # model.summary()\n# len(model.layers)",
      "execution_count": null,
      "outputs": []
    },
    {
      "metadata": {
        "trusted": true,
        "_uuid": "9a11143ebbb89d32f0b390fef0e9d8bcfbfd491c",
        "collapsed": true
      },
      "cell_type": "code",
      "source": "# model.summary()",
      "execution_count": null,
      "outputs": []
    },
    {
      "metadata": {
        "trusted": true,
        "collapsed": true,
        "_uuid": "3431a738aba88d523af69e90c9508cd92ae3e837"
      },
      "cell_type": "code",
      "source": "from keras.optimizers import *\nfrom keras.metrics import *\nfrom keras.callbacks import *",
      "execution_count": null,
      "outputs": []
    },
    {
      "metadata": {
        "trusted": true,
        "collapsed": true,
        "_uuid": "2d09373c2930c154d95a31e4ea8071b8b59615f4"
      },
      "cell_type": "code",
      "source": "model.compile('Adam', loss='categorical_crossentropy', metrics=['accuracy'])",
      "execution_count": null,
      "outputs": []
    },
    {
      "metadata": {
        "trusted": true,
        "collapsed": true,
        "_uuid": "6c6c52da903f0f23dbe97e0613a88a49057ab17a"
      },
      "cell_type": "code",
      "source": "folder = 'logs/'\n\nif not os.path.isdir(folder):\n    os.makedirs(folder)\n\nmodel_checkpoint = ModelCheckpoint(filepath=folder + 'model.{epoch:02d}-{loss:.2f}-{acc:.2f}-{val_loss:.2f}-{val_acc:.2f}.hdf5', \n                                   verbose=1, \n                                   save_best_only=True)\nearly_stop = EarlyStopping(monitor='val_loss', patience=20)\n\ncallbacks = [early_stop, model_checkpoint]",
      "execution_count": null,
      "outputs": []
    },
    {
      "metadata": {
        "trusted": true,
        "_uuid": "1d0bfd0e31ed65c1fc0b34d9e9d643f15da38b43",
        "collapsed": true
      },
      "cell_type": "code",
      "source": "epochs = 1000\nmodel.fit_generator(datagen.flow(train_data, train_labels, batch_size=8),\n                    steps_per_epoch=len(train_data) / 8, epochs=epochs, callbacks = callbacks, validation_data=datagen.flow(test_data, test_labels, batch_size=8))",
      "execution_count": null,
      "outputs": []
    },
    {
      "metadata": {
        "trusted": true,
        "_uuid": "e6123af3698640360eb67d4bf92110f9e4ddbfa3",
        "collapsed": true
      },
      "cell_type": "code",
      "source": "model.evaluate_generator(datagen.flow(test_data, test_labels, batch_size=8))",
      "execution_count": null,
      "outputs": []
    },
    {
      "metadata": {
        "trusted": true,
        "collapsed": true,
        "_uuid": "67d83acb49b74be6ea0ade5cce237b083757f814"
      },
      "cell_type": "code",
      "source": "",
      "execution_count": null,
      "outputs": []
    }
  ],
  "metadata": {
    "kernelspec": {
      "display_name": "Python 3",
      "language": "python",
      "name": "python3"
    },
    "language_info": {
      "name": "python",
      "version": "3.6.4",
      "mimetype": "text/x-python",
      "codemirror_mode": {
        "name": "ipython",
        "version": 3
      },
      "pygments_lexer": "ipython3",
      "nbconvert_exporter": "python",
      "file_extension": ".py"
    }
  },
  "nbformat": 4,
  "nbformat_minor": 1
}