{
 "cells": [
  {
   "cell_type": "code",
   "execution_count": 1,
   "metadata": {},
   "outputs": [],
   "source": [
    "import numpy as np"
   ]
  },
  {
   "cell_type": "markdown",
   "metadata": {},
   "source": [
    "<h2>Carregando dados</h2>"
   ]
  },
  {
   "cell_type": "code",
   "execution_count": 2,
   "metadata": {},
   "outputs": [],
   "source": [
    "data = np.genfromtxt('diabetes.csv', delimiter=',')"
   ]
  },
  {
   "cell_type": "code",
   "execution_count": 3,
   "metadata": {},
   "outputs": [],
   "source": [
    "labels = data[:,-1]\n",
    "data = data[:,:-1]"
   ]
  },
  {
   "cell_type": "markdown",
   "metadata": {},
   "source": [
    "<h2>Normalização</h2>"
   ]
  },
  {
   "cell_type": "code",
   "execution_count": 4,
   "metadata": {},
   "outputs": [],
   "source": [
    "from sklearn.preprocessing import MinMaxScaler"
   ]
  },
  {
   "cell_type": "code",
   "execution_count": 5,
   "metadata": {},
   "outputs": [],
   "source": [
    "scaler = MinMaxScaler()\n",
    "data = scaler.fit_transform(data)"
   ]
  },
  {
   "cell_type": "code",
   "execution_count": 6,
   "metadata": {},
   "outputs": [
    {
     "data": {
      "text/plain": [
       "(0.0, 1.0)"
      ]
     },
     "execution_count": 6,
     "metadata": {},
     "output_type": "execute_result"
    }
   ],
   "source": [
    "np.min(data[:,0]), np.max(data[:,0])"
   ]
  },
  {
   "cell_type": "markdown",
   "metadata": {},
   "source": [
    "<h2>Treinamento</h2>"
   ]
  },
  {
   "cell_type": "code",
   "execution_count": 7,
   "metadata": {},
   "outputs": [],
   "source": [
    "# Modelos\n",
    "from sklearn.neural_network import MLPClassifier\n",
    "from sklearn.svm import SVC\n",
    "from sklearn.ensemble import RandomForestClassifier, GradientBoostingClassifier\n",
    "\n",
    "# K-fold CrossValidation\n",
    "from sklearn.model_selection import KFold\n",
    "\n",
    "# Métricas\n",
    "from sklearn.metrics import accuracy_score, recall_score, precision_score"
   ]
  },
  {
   "cell_type": "code",
   "execution_count": 48,
   "metadata": {},
   "outputs": [],
   "source": [
    "performance = {}\n",
    "\n",
    "modelos = ['bagging']\n",
    "\n",
    "for modelo in modelos:\n",
    "    performance[modelo] = {\n",
    "        'acuracia': [],\n",
    "        'recall': [],\n",
    "        'precisao': []\n",
    "    }"
   ]
  },
  {
   "cell_type": "code",
   "execution_count": 41,
   "metadata": {},
   "outputs": [],
   "source": [
    "from sklearn.utils import resample\n",
    "from collections import Counter\n",
    "from sklearn.model_selection import train_test_split"
   ]
  },
  {
   "cell_type": "code",
   "execution_count": 43,
   "metadata": {},
   "outputs": [],
   "source": [
    "def balancear_dados(x, y, estrategia='oversampling'):\n",
    "    \n",
    "    if estrategia == 'oversampling':\n",
    "        cnt = Counter()\n",
    "        for cat in y:\n",
    "            cnt[cat] += 1\n",
    "        \n",
    "        classe_majo = cnt.most_common()[0][0]\n",
    "        num_samples = cnt.most_common()[0][1]\n",
    "        \n",
    "        dados_bal = []\n",
    "        labels_bal = []\n",
    "        for classes in np.unique(y):\n",
    "            if not classes == classe_majo:\n",
    "                dados = x[y == classes]\n",
    "                label = y[y == classes]\n",
    "                \n",
    "                sampled_dados, sampled_label = resample(dados, \n",
    "                                               label, \n",
    "                                               n_samples=num_samples)\n",
    "                \n",
    "                dados_bal.append(sampled_dados)\n",
    "                labels_bal.append(sampled_label)\n",
    "            else:\n",
    "                dados_bal.append(x[y == classe_majo])\n",
    "                labels_bal.append(y[y == classe_majo])\n",
    "        \n",
    "        return np.vstack(dados_bal), np.hstack(labels_bal)"
   ]
  },
  {
   "cell_type": "code",
   "execution_count": 44,
   "metadata": {},
   "outputs": [
    {
     "data": {
      "text/plain": [
       "(692L, 8L)"
      ]
     },
     "execution_count": 44,
     "metadata": {},
     "output_type": "execute_result"
    }
   ],
   "source": [
    "X_train.shape"
   ]
  },
  {
   "cell_type": "code",
   "execution_count": 45,
   "metadata": {},
   "outputs": [
    {
     "data": {
      "text/plain": [
       "(908L, 8L)"
      ]
     },
     "execution_count": 45,
     "metadata": {},
     "output_type": "execute_result"
    }
   ],
   "source": [
    "balancear_dados(X_train, y_train)[0].shape"
   ]
  },
  {
   "cell_type": "code",
   "execution_count": 49,
   "metadata": {},
   "outputs": [],
   "source": [
    "n_modelos = 5\n",
    "kf = KFold(n_splits=10)\n",
    "num_samples = 400\n",
    "\n",
    "for train_index, test_index in kf.split(data):\n",
    "    \n",
    "    X_train, X_test = data[train_index], data[test_index]\n",
    "    y_train, y_test = labels[train_index], labels[test_index]\n",
    "    \n",
    "    predictions = []\n",
    "    ensemble_predictions = []\n",
    "    for n in range(n_modelos):\n",
    "        sample_X_train, sample_y_train = resample(X_train, \n",
    "                                                  y_train, \n",
    "                                                  n_samples=num_samples)\n",
    "        # Balanceamento\n",
    "        sample_X_train, sample_y_train = balancear_dados(sample_X_train, sample_y_train)\n",
    "        \n",
    "        mlp = MLPClassifier()\n",
    "        # Treino de cada modelo\n",
    "        mlp.fit(sample_X_train, sample_y_train)\n",
    "        \n",
    "        # Avaliação\n",
    "        predictions.append(mlp.predict(X_test))\n",
    "        \n",
    "    predictions = np.vstack(predictions)\n",
    "    # Voto Majoritário\n",
    "    cnt = Counter()\n",
    "    for col in range(predictions.shape[1]):\n",
    "        votes = predictions[:,col]\n",
    "        for vote in votes:\n",
    "            cnt[vote] += 1\n",
    "        ensemble_predictions.append(cnt.most_common()[0][0]) # Categoria mais votada\n",
    "    \n",
    "    # Cálculo de métricas\n",
    "    ens_acc = accuracy_score(y_test, ensemble_predictions)\n",
    "    ens_recall = recall_score(y_test, ensemble_predictions)\n",
    "    ens_precisao = precision_score(y_test, ensemble_predictions)\n",
    "    \n",
    "    performance['bagging']['acuracia'].append(ens_acc)\n",
    "    performance['bagging']['recall'].append(ens_recall)\n",
    "    performance['bagging']['precisao'].append(ens_precisao)"
   ]
  },
  {
   "cell_type": "code",
   "execution_count": 50,
   "metadata": {},
   "outputs": [
    {
     "data": {
      "text/plain": [
       "{'bagging': {'acuracia': [0.5974025974025974,\n",
       "   0.7142857142857143,\n",
       "   0.5454545454545454,\n",
       "   0.42857142857142855,\n",
       "   0.6493506493506493,\n",
       "   0.6103896103896104,\n",
       "   0.8181818181818182,\n",
       "   0.7012987012987013,\n",
       "   0.6842105263157895,\n",
       "   0.6052631578947368],\n",
       "  'precisao': [0.5128205128205128,\n",
       "   0.0,\n",
       "   0.4,\n",
       "   0.39705882352941174,\n",
       "   0.0,\n",
       "   0.0,\n",
       "   0.0,\n",
       "   0.625,\n",
       "   0.0,\n",
       "   0.5],\n",
       "  'recall': [0.625,\n",
       "   0.0,\n",
       "   0.058823529411764705,\n",
       "   0.9,\n",
       "   0.0,\n",
       "   0.0,\n",
       "   0.0,\n",
       "   0.2,\n",
       "   0.0,\n",
       "   0.13333333333333333]}}"
      ]
     },
     "execution_count": 50,
     "metadata": {},
     "output_type": "execute_result"
    }
   ],
   "source": [
    "performance"
   ]
  },
  {
   "cell_type": "code",
   "execution_count": 28,
   "metadata": {},
   "outputs": [
    {
     "data": {
      "text/plain": [
       "1"
      ]
     },
     "execution_count": 28,
     "metadata": {},
     "output_type": "execute_result"
    }
   ],
   "source": [
    "cnt.most_common()[0][0]"
   ]
  }
 ],
 "metadata": {
  "kernelspec": {
   "display_name": "Python 2",
   "language": "python",
   "name": "python2"
  },
  "language_info": {
   "codemirror_mode": {
    "name": "ipython",
    "version": 2
   },
   "file_extension": ".py",
   "mimetype": "text/x-python",
   "name": "python",
   "nbconvert_exporter": "python",
   "pygments_lexer": "ipython2",
   "version": "2.7.15"
  }
 },
 "nbformat": 4,
 "nbformat_minor": 2
}
