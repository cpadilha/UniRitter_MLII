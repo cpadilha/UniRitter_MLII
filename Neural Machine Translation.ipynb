{
 "cells": [
  {
   "cell_type": "code",
   "execution_count": 1,
   "metadata": {
    "_cell_guid": "b1076dfc-b9ad-4769-8c92-a6c4dae69d19",
    "_uuid": "8f2839f25d086af736a60e9eeb907d3b93b6e0e5"
   },
   "outputs": [],
   "source": [
    "# This Python 3 environment comes with many helpful analytics libraries installed\n",
    "# It is defined by the kaggle/python docker image: https://github.com/kaggle/docker-python\n",
    "# For example, here's several helpful packages to load in \n",
    "\n",
    "import numpy as np # linear algebra\n",
    "import pandas as pd # data processing, CSV file I/O (e.g. pd.read_csv)\n",
    "\n",
    "# Input data files are available in the \"../input/\" directory.\n",
    "# For example, running this (by clicking run or pressing Shift+Enter) will list the files in the input directory\n",
    "\n",
    "import os\n",
    "# print(os.listdir(\"../input\"))\n",
    "\n",
    "# Any results you write to the current directory are saved as output."
   ]
  },
  {
   "cell_type": "markdown",
   "metadata": {
    "_uuid": "dd1f7556f8573fe49afff9243b174ec7721bf3ee"
   },
   "source": [
    "<h2>Carregando os dados</h2>"
   ]
  },
  {
   "cell_type": "code",
   "execution_count": 2,
   "metadata": {
    "_uuid": "9c52da3a34f5c223fd24547127ccc8fd09415529"
   },
   "outputs": [],
   "source": [
    "# Pares de sequências English -> French.\n",
    "# http://www.manythings.org/anki/fra-eng.zip"
   ]
  },
  {
   "cell_type": "code",
   "execution_count": 3,
   "metadata": {
    "_cell_guid": "79c7e3d0-c299-4dcb-8224-4455121ee9b0",
    "_uuid": "d629ff2d2480ee46fbb7e2d37f6b5fab8052498a"
   },
   "outputs": [
    {
     "data": {
      "text/html": [
       "<div>\n",
       "<style scoped>\n",
       "    .dataframe tbody tr th:only-of-type {\n",
       "        vertical-align: middle;\n",
       "    }\n",
       "\n",
       "    .dataframe tbody tr th {\n",
       "        vertical-align: top;\n",
       "    }\n",
       "\n",
       "    .dataframe thead th {\n",
       "        text-align: right;\n",
       "    }\n",
       "</style>\n",
       "<table border=\"1\" class=\"dataframe\">\n",
       "  <thead>\n",
       "    <tr style=\"text-align: right;\">\n",
       "      <th></th>\n",
       "      <th>eng_sent</th>\n",
       "      <th>fra_sent</th>\n",
       "    </tr>\n",
       "  </thead>\n",
       "  <tbody>\n",
       "    <tr>\n",
       "      <th>0</th>\n",
       "      <td>Go.</td>\n",
       "      <td>Va !</td>\n",
       "    </tr>\n",
       "    <tr>\n",
       "      <th>1</th>\n",
       "      <td>Hi.</td>\n",
       "      <td>Salut !</td>\n",
       "    </tr>\n",
       "    <tr>\n",
       "      <th>2</th>\n",
       "      <td>Run!</td>\n",
       "      <td>Cours !</td>\n",
       "    </tr>\n",
       "    <tr>\n",
       "      <th>3</th>\n",
       "      <td>Run!</td>\n",
       "      <td>Courez !</td>\n",
       "    </tr>\n",
       "    <tr>\n",
       "      <th>4</th>\n",
       "      <td>Wow!</td>\n",
       "      <td>Ça alors !</td>\n",
       "    </tr>\n",
       "  </tbody>\n",
       "</table>\n",
       "</div>"
      ],
      "text/plain": [
       "  eng_sent    fra_sent\n",
       "0      Go.        Va !\n",
       "1      Hi.     Salut !\n",
       "2     Run!     Cours !\n",
       "3     Run!    Courez !\n",
       "4     Wow!  Ça alors !"
      ]
     },
     "execution_count": 3,
     "metadata": {},
     "output_type": "execute_result"
    }
   ],
   "source": [
    "fra_eng_data = pd.read_csv('fra.txt', delimiter='\\t', header=None, names=['eng_sent', 'fra_sent'])\n",
    "fra_eng_data.head()"
   ]
  },
  {
   "cell_type": "markdown",
   "metadata": {
    "_uuid": "78b0ac33d751dd8f301c0d24ed9e954f4aabb147"
   },
   "source": [
    "<h2>Processamento dos dados</h2>"
   ]
  },
  {
   "cell_type": "markdown",
   "metadata": {
    "_uuid": "23dc5082555233ca72d56e4bdeb4dedab3bd64b0"
   },
   "source": [
    "<h3>Separando os dados de entrada e saída</h3>"
   ]
  },
  {
   "cell_type": "code",
   "execution_count": 4,
   "metadata": {
    "_uuid": "45f1f0e78cc86da2347774dcba196a1caeaaba9a"
   },
   "outputs": [
    {
     "name": "stdout",
     "output_type": "stream",
     "text": [
      "Número de sentenças: 160872\n",
      "Número de caracteres em inglês: 95\n",
      "Número de caracteres em francês: 112\n",
      "Maior sentença em inglês tem 286 caracteres\n",
      "Maior sentença em francês tem 362 caracteres\n"
     ]
    }
   ],
   "source": [
    "eng_texts = []\n",
    "fra_texts = []\n",
    "\n",
    "eng_chars = set()\n",
    "fra_chars = set()\n",
    "\n",
    "for i in range(len(fra_eng_data)):\n",
    "    eng_sent = fra_eng_data['eng_sent'][i]\n",
    "    eng_texts.append(eng_sent)\n",
    "    \n",
    "    fra_sent = '\\t' + fra_eng_data['fra_sent'][i] + '\\n' # Adicionando token de inicio \"\\t\" e token de fim de sentença \"\\n\"\n",
    "    fra_texts.append(fra_sent)\n",
    "    \n",
    "    for c in eng_sent:\n",
    "        if not c in eng_chars:\n",
    "            eng_chars.add(c)\n",
    "            \n",
    "    for c in fra_sent:\n",
    "        if not c in fra_chars:\n",
    "            fra_chars.add(c)\n",
    "\n",
    "print(\"Número de sentenças: {}\".format(len(eng_texts)))\n",
    "print(\"Número de caracteres em inglês: {}\".format(len(eng_chars)))\n",
    "print(\"Número de caracteres em francês: {}\".format(len(fra_chars)))\n",
    "maxlen_eng_text = max([len(sent) for sent in eng_texts])\n",
    "maxlen_fra_text = max([len(sent) for sent in fra_texts])\n",
    "print(\"Maior sentença em inglês tem {} caracteres\".format(maxlen_eng_text))\n",
    "print(\"Maior sentença em francês tem {} caracteres\".format(maxlen_fra_text))"
   ]
  },
  {
   "cell_type": "code",
   "execution_count": 11,
   "metadata": {},
   "outputs": [],
   "source": [
    "from sklearn.model_selection import train_test_split"
   ]
  },
  {
   "cell_type": "code",
   "execution_count": 12,
   "metadata": {},
   "outputs": [],
   "source": [
    "train_eng_texts, test_eng_texts, train_fra_texts, test_fra_texts = train_test_split(eng_texts, fra_texts, test_size=0.33, random_state=42)"
   ]
  },
  {
   "cell_type": "code",
   "execution_count": 13,
   "metadata": {},
   "outputs": [
    {
     "data": {
      "text/plain": [
       "('The bottle smashed to pieces.', '\\tLa bouteille se brisa en morceaux.\\n')"
      ]
     },
     "execution_count": 13,
     "metadata": {},
     "output_type": "execute_result"
    }
   ],
   "source": [
    "train_eng_texts[0], train_fra_texts[0]"
   ]
  },
  {
   "cell_type": "code",
   "execution_count": 14,
   "metadata": {},
   "outputs": [],
   "source": [
    "# Training data\n",
    "train_data = []\n",
    "\n",
    "for i in range(len(train_eng_texts)):\n",
    "    aux = {}\n",
    "    aux['encoder_text'] = train_eng_texts[i]\n",
    "    aux['decoder_text'] = train_fra_texts[i]\n",
    "    \n",
    "    train_data.append(aux)\n",
    "\n",
    "# Evaluation/Test data\n",
    "valid_data = []\n",
    "\n",
    "for i in range(len(test_eng_texts)):\n",
    "    aux = {}\n",
    "    aux['encoder_text'] = test_eng_texts[i]\n",
    "    aux['decoder_text'] = test_fra_texts[i]\n",
    "    \n",
    "    valid_data.append(aux)"
   ]
  },
  {
   "cell_type": "markdown",
   "metadata": {
    "_uuid": "a7869f3a37db368cf0a133ec1fa376e7ca79754f"
   },
   "source": [
    "<h3>Mapeamento char - id</h3>"
   ]
  },
  {
   "cell_type": "code",
   "execution_count": 15,
   "metadata": {
    "_uuid": "02e679999936623500121622a36d414aa27e282e"
   },
   "outputs": [],
   "source": [
    "eng_char_id = {c: i for i, c in enumerate(sorted(eng_chars))}\n",
    "fra_char_id = {c: i for i, c in enumerate(sorted(fra_chars))}"
   ]
  },
  {
   "cell_type": "markdown",
   "metadata": {
    "_uuid": "3b756f8eec9c4f69b6aba032faad3577479bad67"
   },
   "source": [
    "<h3>Data Generator</h3>"
   ]
  },
  {
   "cell_type": "code",
   "execution_count": 16,
   "metadata": {
    "_uuid": "7a0e40b43eb91c60e548d827971a33de6c8f325e"
   },
   "outputs": [],
   "source": [
    "from __future__ import division\n",
    "from keras.utils import Sequence"
   ]
  },
  {
   "cell_type": "code",
   "execution_count": 43,
   "metadata": {
    "_uuid": "244b55100d324a72e2275513fdbc6d7dd2671200"
   },
   "outputs": [],
   "source": [
    "class BatchGenerator(Sequence):\n",
    "    \n",
    "    def __init__(self, instances, encoder_char_dict, decoder_char_dict, maxlen_encoder_text, maxlen_decoder_text, batch_size):\n",
    "        self.instances = instances\n",
    "        self.encoder_char_dict = encoder_char_dict\n",
    "        self.decoder_char_dict = decoder_char_dict\n",
    "        self.maxlen_encoder_text = maxlen_encoder_text\n",
    "        self.maxlen_decoder_text = maxlen_decoder_text\n",
    "        self.batch_size = batch_size\n",
    "        self.shuffle = True\n",
    "        \n",
    "        if self.shuffle: np.random.shuffle(self.instances)\n",
    "        \n",
    "    def __len__(self):\n",
    "        return int(np.ceil(len(self.instances) / self.batch_size))\n",
    "    \n",
    "    def on_epoch_end(self):\n",
    "        if self.shuffle: np.random.shuffle(self.instances)\n",
    "            \n",
    "    def eval_batch(self, idx):\n",
    "        l_bound = idx * self.batch_size\n",
    "        r_bound = (idx + 1) * self.batch_size\n",
    "        \n",
    "        if r_bound > len(self.instances):\n",
    "            r_bound = len(self.instances)\n",
    "            l_bound = r_bound - self.batch_size\n",
    "        \n",
    "        train_instances = self.instances[l_bound:r_bound]\n",
    "        \n",
    "        encoder_input_data = []\n",
    "        decoder_input_data = []\n",
    "        decoder_target_data = []\n",
    "        \n",
    "        for i in range(self.batch_size):\n",
    "            input_text = train_instances[i]['encoder_text']\n",
    "            target_text = train_instances[i]['decoder_text']\n",
    "            \n",
    "            aux1 = []\n",
    "            aux2 = []\n",
    "            aux3 = []\n",
    "            \n",
    "            for t, char in enumerate(input_text):\n",
    "                aux1.append(char)\n",
    "            for t, char in enumerate(target_text):\n",
    "                aux2.append(char)\n",
    "                if t > 0:\n",
    "                    aux3.append(char)\n",
    "            \n",
    "            encoder_input_data.append(''.join(aux1))\n",
    "            decoder_input_data.append(''.join(aux2))\n",
    "            decoder_target_data.append(''.join(aux3))\n",
    "        \n",
    "        return [encoder_input_data, decoder_input_data], decoder_target_data\n",
    "        \n",
    "    \n",
    "    def __getitem__(self, idx):\n",
    "        \n",
    "        l_bound = idx * self.batch_size\n",
    "        r_bound = (idx + 1) * self.batch_size\n",
    "        \n",
    "        if r_bound > len(self.instances):\n",
    "            r_bound = len(self.instances)\n",
    "            l_bound = r_bound - self.batch_size\n",
    "        \n",
    "        train_instances = self.instances[l_bound:r_bound]\n",
    "        \n",
    "        encoder_input_data = np.zeros((self.batch_size, self.maxlen_encoder_text, len(self.encoder_char_dict)))\n",
    "        decoder_input_data = np.zeros((self.batch_size, self.maxlen_decoder_text, len(self.decoder_char_dict)))\n",
    "        decoder_target_data = np.zeros((self.batch_size, self.maxlen_decoder_text, len(self.decoder_char_dict)))\n",
    "        \n",
    "        for i in range(self.batch_size):\n",
    "            input_text = train_instances[i]['encoder_text']\n",
    "            target_text = train_instances[i]['decoder_text']\n",
    "            \n",
    "            for t, char in enumerate(input_text):\n",
    "                encoder_input_data[i, t, self.encoder_char_dict[char]] = 1.\n",
    "            for t, char in enumerate(target_text):\n",
    "                decoder_input_data[i, t, self.decoder_char_dict[char]] = 1.\n",
    "                if t > 0:\n",
    "                    decoder_target_data[i, t - 1, self.decoder_char_dict[char]] = 1.\n",
    "        \n",
    "        return [encoder_input_data, decoder_input_data], decoder_target_data"
   ]
  },
  {
   "cell_type": "code",
   "execution_count": 75,
   "metadata": {
    "_uuid": "ce96f813ca09fd29c65ec2561b3433f7645d1909"
   },
   "outputs": [],
   "source": [
    "train_generator = BatchGenerator(train_data + valid_data, eng_char_id, fra_char_id, maxlen_eng_text, maxlen_fra_text, 128)\n",
    "valid_generator = BatchGenerator(valid_data, eng_char_id, fra_char_id, maxlen_eng_text, maxlen_fra_text, 128)"
   ]
  },
  {
   "cell_type": "code",
   "execution_count": 76,
   "metadata": {},
   "outputs": [
    {
     "data": {
      "text/plain": [
       "(1257, 415)"
      ]
     },
     "execution_count": 76,
     "metadata": {},
     "output_type": "execute_result"
    }
   ],
   "source": [
    "train_generator.__len__(), valid_generator.__len__()"
   ]
  },
  {
   "cell_type": "code",
   "execution_count": 77,
   "metadata": {},
   "outputs": [],
   "source": [
    "[a, b], c = train_generator.eval_batch(0)"
   ]
  },
  {
   "cell_type": "code",
   "execution_count": 78,
   "metadata": {},
   "outputs": [
    {
     "data": {
      "text/plain": [
       "('I need a little time.',\n",
       " \"\\tJ'ai besoin d'un peu de temps.\\n\",\n",
       " \"J'ai besoin d'un peu de temps.\\n\")"
      ]
     },
     "execution_count": 78,
     "metadata": {},
     "output_type": "execute_result"
    }
   ],
   "source": [
    "a[1], b[1], c[1]"
   ]
  },
  {
   "cell_type": "markdown",
   "metadata": {
    "_uuid": "163414ad6ed99fa9f56b01383651937359a51d45"
   },
   "source": [
    "<h2>Criando o modelo encoder-decoder</h2>"
   ]
  },
  {
   "cell_type": "code",
   "execution_count": 21,
   "metadata": {
    "_uuid": "22e64479878fed37ed62b6d358a2278a3244259e"
   },
   "outputs": [],
   "source": [
    "import tensorflow as tf\n",
    "from keras.backend.tensorflow_backend import set_session\n",
    "\n",
    "from keras.models import *\n",
    "from keras.layers import *\n",
    "\n",
    "config = tf.ConfigProto()\n",
    "config.gpu_options.allow_growth=True\n",
    "set_session(tf.Session(config=config))"
   ]
  },
  {
   "cell_type": "code",
   "execution_count": 37,
   "metadata": {
    "_uuid": "3882997b345f06a2db321ac259ba9171de5ce2b5"
   },
   "outputs": [],
   "source": [
    "encoder_input_dim = len(eng_char_id)\n",
    "decoder_input_dim = len(fra_char_id)\n",
    "lstm_units = 256\n",
    "    \n",
    "# Encoder\n",
    "encoder_inputs = Input(shape=(None, encoder_input_dim))\n",
    "encoder = LSTM(lstm_units, return_state=True)\n",
    "_, state_h, state_c = encoder(encoder_inputs)\n",
    "\n",
    "encoder_states = [state_h, state_c]\n",
    "\n",
    "# Decoder\n",
    "decoder_inputs = Input(shape=(None, decoder_input_dim))\n",
    "decoder_lstm = LSTM(lstm_units, return_sequences=True, return_state=True)\n",
    "decoder_outputs, _, _ = decoder_lstm(decoder_inputs,\n",
    "                                     initial_state=encoder_states)\n",
    "decoder_dense = Dense(decoder_input_dim, activation='softmax')\n",
    "decoder_outputs = decoder_dense(decoder_outputs)\n",
    "\n",
    "# Modelo completo\n",
    "model = Model([encoder_inputs, decoder_inputs], decoder_outputs)\n",
    "model.compile(optimizer='Adam', loss='categorical_crossentropy')"
   ]
  },
  {
   "cell_type": "code",
   "execution_count": 39,
   "metadata": {},
   "outputs": [],
   "source": [
    "model.load_weights(\"temp_weights.hdf5\")"
   ]
  },
  {
   "cell_type": "code",
   "execution_count": 28,
   "metadata": {
    "_uuid": "d3b2595f7da00e04ad95c7df63c4cb7588a3c5d5"
   },
   "outputs": [
    {
     "name": "stdout",
     "output_type": "stream",
     "text": [
      "__________________________________________________________________________________________________\n",
      "Layer (type)                    Output Shape         Param #     Connected to                     \n",
      "==================================================================================================\n",
      "input_1 (InputLayer)            (None, None, 95)     0                                            \n",
      "__________________________________________________________________________________________________\n",
      "input_2 (InputLayer)            (None, None, 112)    0                                            \n",
      "__________________________________________________________________________________________________\n",
      "lstm_1 (LSTM)                   [(None, 256), (None, 360448      input_1[0][0]                    \n",
      "__________________________________________________________________________________________________\n",
      "lstm_2 (LSTM)                   [(None, None, 256),  377856      input_2[0][0]                    \n",
      "                                                                 lstm_1[0][1]                     \n",
      "                                                                 lstm_1[0][2]                     \n",
      "__________________________________________________________________________________________________\n",
      "dense_1 (Dense)                 (None, None, 112)    28784       lstm_2[0][0]                     \n",
      "==================================================================================================\n",
      "Total params: 767,088\n",
      "Trainable params: 767,088\n",
      "Non-trainable params: 0\n",
      "__________________________________________________________________________________________________\n"
     ]
    }
   ],
   "source": [
    "model.summary()"
   ]
  },
  {
   "cell_type": "code",
   "execution_count": 81,
   "metadata": {
    "_uuid": "a1875dce2eabcd695650321415464811d2eac442"
   },
   "outputs": [],
   "source": [
    "# model.fit_generator(train_generator, \n",
    "#                     epochs=100, \n",
    "#                     verbose=1,\n",
    "#                     validation_data=valid_generator,\n",
    "#                     workers=8)"
   ]
  },
  {
   "cell_type": "code",
   "execution_count": 82,
   "metadata": {},
   "outputs": [],
   "source": [
    "model.save_weights(\"temp_weights.hdf5\")"
   ]
  },
  {
   "cell_type": "markdown",
   "metadata": {},
   "source": [
    "<h1>Inferência</h1>"
   ]
  },
  {
   "cell_type": "markdown",
   "metadata": {},
   "source": [
    "<h2>Modelos Encoder e Decoder</h2>"
   ]
  },
  {
   "cell_type": "code",
   "execution_count": 83,
   "metadata": {},
   "outputs": [],
   "source": [
    "encoder_model = Model(encoder_inputs, encoder_states)\n",
    "\n",
    "decoder_state_input_h = Input(shape=(lstm_units,))\n",
    "decoder_state_input_c = Input(shape=(lstm_units,))\n",
    "decoder_states_inputs = [decoder_state_input_h, decoder_state_input_c]\n",
    "\n",
    "decoder_outputs, state_h, state_c = decoder_lstm(decoder_inputs, initial_state=decoder_states_inputs)\n",
    "decoder_states = [state_h, state_c]\n",
    "\n",
    "decoder_outputs = decoder_dense(decoder_outputs)\n",
    "\n",
    "decoder_model = Model([decoder_inputs] + decoder_states_inputs, [decoder_outputs] + decoder_states)"
   ]
  },
  {
   "cell_type": "markdown",
   "metadata": {},
   "source": [
    "<h2>Mapeamento reverso -> id - char</h2>"
   ]
  },
  {
   "cell_type": "code",
   "execution_count": 84,
   "metadata": {},
   "outputs": [],
   "source": [
    "eng_id_char = {eng_char_id[key]: key for key in eng_char_id.keys()}\n",
    "fra_id_char = {fra_char_id[key]: key for key in fra_char_id.keys()}"
   ]
  },
  {
   "cell_type": "markdown",
   "metadata": {},
   "source": [
    "<h2>Decodificando</h2>"
   ]
  },
  {
   "cell_type": "code",
   "execution_count": 85,
   "metadata": {},
   "outputs": [],
   "source": [
    "def decode_sequence(input_seq):\n",
    "    # Encode the input as state vectors.\n",
    "    states_value = encoder_model.predict(input_seq)\n",
    "\n",
    "    # Generate empty target sequence of length 1.\n",
    "    target_seq = np.zeros((1, 1, len(fra_id_char)))\n",
    "    # Populate the first character of target sequence with the start character.\n",
    "    target_seq[0, 0, fra_char_id['\\t']] = 1.\n",
    "\n",
    "    # Sampling loop for a batch of sequences\n",
    "    # (to simplify, here we assume a batch of size 1).\n",
    "    stop_condition = False\n",
    "    decoded_sentence = ''\n",
    "    while not stop_condition:\n",
    "        output_tokens, h, c = decoder_model.predict([target_seq] + states_value)\n",
    "\n",
    "        # Sample a token\n",
    "        sampled_token_index = np.argmax(output_tokens[0, -1, :])\n",
    "        sampled_char = fra_id_char[sampled_token_index]\n",
    "        decoded_sentence += sampled_char\n",
    "\n",
    "        # Exit condition: either hit max length\n",
    "        # or find stop character.\n",
    "        if (sampled_char == '\\n' or len(decoded_sentence) > maxlen_fra_text):\n",
    "            stop_condition = True\n",
    "\n",
    "        # Update the target sequence (of length 1).\n",
    "        target_seq = np.zeros((1, 1, len(fra_id_char)))\n",
    "        target_seq[0, 0, sampled_token_index] = 1.\n",
    "\n",
    "        # Update states\n",
    "        states_value = [h, c]\n",
    "\n",
    "    return decoded_sentence"
   ]
  },
  {
   "cell_type": "code",
   "execution_count": 86,
   "metadata": {},
   "outputs": [],
   "source": [
    "eval_generator = BatchGenerator(valid_data, eng_char_id, fra_char_id, maxlen_eng_text, maxlen_fra_text, 1)"
   ]
  },
  {
   "cell_type": "code",
   "execution_count": 87,
   "metadata": {},
   "outputs": [],
   "source": [
    "[encoder_input_data, _], _ = eval_generator.__getitem__(0)"
   ]
  },
  {
   "cell_type": "code",
   "execution_count": 88,
   "metadata": {},
   "outputs": [
    {
     "data": {
      "text/plain": [
       "(1, 286, 95)"
      ]
     },
     "execution_count": 88,
     "metadata": {},
     "output_type": "execute_result"
    }
   ],
   "source": [
    "encoder_input_data.shape"
   ]
  },
  {
   "cell_type": "code",
   "execution_count": 89,
   "metadata": {},
   "outputs": [
    {
     "name": "stdout",
     "output_type": "stream",
     "text": [
      "-\n",
      "('Input sentence:', \"I can't understand anything he said.\")\n",
      "('Decoded sentence:', 'Je ne peux pas vous dire ce que tu veux.\\n')\n",
      "-\n",
      "('Input sentence:', 'I may as well go now.')\n",
      "('Decoded sentence:', \"J'ai perdu la porte de chance.\\n\")\n",
      "-\n",
      "('Input sentence:', 'The situation became chaotic.')\n",
      "('Decoded sentence:', 'Le chien de concert de conseil.\\n')\n",
      "-\n",
      "('Input sentence:', 'Please smile.')\n",
      "('Decoded sentence:', 'Veuillez me rendre.\\n')\n",
      "-\n",
      "('Input sentence:', \"I don't believe it happened that way.\")\n",
      "('Decoded sentence:', 'Je ne pense pas que tu aies de mois de cette chance.\\n')\n",
      "-\n",
      "('Input sentence:', 'All you do is party.')\n",
      "('Decoded sentence:', 'Les chats sont tr\\xc3\\xa8s souvents.\\n')\n",
      "-\n",
      "('Input sentence:', \"You're double-parked.\")\n",
      "('Decoded sentence:', 'Vous \\xc3\\xaates tr\\xc3\\xa8s bonnes.\\n')\n",
      "-\n",
      "('Input sentence:', 'I changed the arrangement of the furniture in my room.')\n",
      "('Decoded sentence:', 'Je pensais que tu as dit que tu ne peux pas vous dire.\\n')\n",
      "-\n",
      "('Input sentence:', \"He's got an uncle who works in a bank.\")\n",
      "('Decoded sentence:', 'Il est tr\\xc3\\xa8s bon pour moi de la prochaine.\\n')\n",
      "-\n",
      "('Input sentence:', 'Ask her when she will come back.')\n",
      "('Decoded sentence:', 'Les chats sont des probl\\xc3\\xa8mes de la porte.\\n')\n",
      "-\n",
      "('Input sentence:', \"I'd like to hear you sing.\")\n",
      "('Decoded sentence:', \"J'aimerais vous demander \\xc3\\xa0 l'\\xc3\\xa9cole.\\n\")\n",
      "-\n",
      "('Input sentence:', 'In a way you are right, but I still have doubts.')\n",
      "('Decoded sentence:', 'Si tu ne peux pas vous avoir rest\\xc3\\xa9 un peu de temps \\xc3\\xa0 la maison.\\n')\n",
      "-\n",
      "('Input sentence:', \"It's making me nervous.\")\n",
      "('Decoded sentence:', \"C'est un peu de temps.\\n\")\n",
      "-\n",
      "('Input sentence:', 'I heard a funny noise.')\n",
      "('Decoded sentence:', \"J'ai besoin de me dire ce que tu as fait.\\n\")\n",
      "-\n",
      "('Input sentence:', 'He has already finished his work.')\n",
      "('Decoded sentence:', \"Il a dit qu'il ne pouvait pas le faire.\\n\")\n",
      "-\n",
      "('Input sentence:', 'Why are you so interested in him?')\n",
      "('Decoded sentence:', \"Pourquoi ne m'avez-vous pas de conseill\\xc3\\xa9 ?\\n\")\n",
      "-\n",
      "('Input sentence:', 'I called for help.')\n",
      "('Decoded sentence:', \"Je me suis rest\\xc3\\xa9e \\xc3\\xa0 l'\\xc3\\xa9cole.\\n\")\n",
      "-\n",
      "('Input sentence:', \"It really doesn't affect you, does it?\")\n",
      "('Decoded sentence:', 'Ils ont attendu la porte de la porte de la porte.\\n')\n",
      "-\n",
      "('Input sentence:', \"It's happening all the time now.\")\n",
      "('Decoded sentence:', \"C'est un peu de temps de mon probl\\xc3\\xa8me.\\n\")\n",
      "-\n",
      "('Input sentence:', \"You're not totally blameless.\")\n",
      "('Decoded sentence:', 'Vous \\xc3\\xaates tr\\xc3\\xa8s occup\\xc3\\xa9e de la porte.\\n')\n",
      "-\n",
      "('Input sentence:', \"I do hope you'll come again.\")\n",
      "('Decoded sentence:', \"J'ai perdu la porte de chance.\\n\")\n",
      "-\n",
      "('Input sentence:', 'I have an interest in Oriental ceramics.')\n",
      "('Decoded sentence:', \"J'ai d\\xc3\\xa9j\\xc3\\xa0 fait ce que tu as fait.\\n\")\n",
      "-\n",
      "('Input sentence:', 'The children got lost in the woods.')\n",
      "('Decoded sentence:', 'Le concert de compte de la conseille.\\n')\n",
      "-\n",
      "('Input sentence:', 'Tom was looking at a map of the area.')\n",
      "('Decoded sentence:', \"Tom a dit qu'il ne pouvait pas le faire.\\n\")\n",
      "-\n",
      "('Input sentence:', 'She really looks pretty.')\n",
      "('Decoded sentence:', \"Elle l'a dit qu'il a dit.\\n\")\n",
      "-\n",
      "('Input sentence:', 'Everybody laughed at Tom.')\n",
      "('Decoded sentence:', \"Tout le monde a dit qu'il a dit.\\n\")\n",
      "-\n",
      "('Input sentence:', 'No one really knows.')\n",
      "('Decoded sentence:', 'Personne ne parle en contrarie.\\n')\n",
      "-\n",
      "('Input sentence:', \"Tom's father is in jail.\")\n",
      "('Decoded sentence:', 'Tom est un peu de temps.\\n')\n",
      "-\n",
      "('Input sentence:', \"I don't really want to pay that much for a new car.\")\n",
      "('Decoded sentence:', 'Je ne pense pas que tu as dit que tu ne peux pas vous avoir fait.\\n')\n",
      "-\n",
      "('Input sentence:', 'I thought you were my friend.')\n",
      "('Decoded sentence:', 'Je pensais que tu as dit de nous aller.\\n')\n",
      "-\n",
      "('Input sentence:', 'Tell them what happened.')\n",
      "('Decoded sentence:', 'Les chats sont tr\\xc3\\xa8s bonnes.\\n')\n",
      "-\n",
      "('Input sentence:', 'Do you mind if I turn down the TV?')\n",
      "('Decoded sentence:', 'Pourriez-vous me dire ce que tu veux ?\\n')\n",
      "-\n",
      "('Input sentence:', \"He's in prison.\")\n",
      "('Decoded sentence:', 'Il est tr\\xc3\\xa8s bon.\\n')\n",
      "-\n",
      "('Input sentence:', 'You should carry out your promises.')\n",
      "('Decoded sentence:', 'Vous avez des probl\\xc3\\xa8mes de la police de conseil.\\n')\n",
      "-\n",
      "('Input sentence:', 'He remembered that Room 418, a very small room, was empty.')\n",
      "('Decoded sentence:', \"Il a dit qu'il ne peut pas que tu veux que tu veux \\xc3\\xaatre fatigu\\xc3\\xa9e.\\n\")\n",
      "-\n",
      "('Input sentence:', \"I think, without a doubt, that I'll win the tennis match.\")\n",
      "('Decoded sentence:', 'Je pensais que tu as dit que tu ne peux pas vous avoir rencontr\\xc3\\xa9.\\n')\n",
      "-\n",
      "('Input sentence:', 'He seemed unconscious of my presence.')\n",
      "('Decoded sentence:', \"Il a dit qu'il ne pouvait pas le faire.\\n\")\n",
      "-\n",
      "('Input sentence:', 'If I were in your place, I would not do so.')\n",
      "('Decoded sentence:', 'Si tu ne peux pas vous avoir rest\\xc3\\xa9 un peu de temps.\\n')\n",
      "-\n",
      "('Input sentence:', \"I'd like to talk to you about what happened.\")\n",
      "('Decoded sentence:', \"J'aimerais que tu as dit que tu ne vous ai pas dit.\\n\")\n",
      "-\n",
      "('Input sentence:', \"I'll give you back the money tomorrow.\")\n",
      "('Decoded sentence:', 'Je vous ai dit que tu ne vous ai pas dit.\\n')\n",
      "-\n",
      "('Input sentence:', 'I wanted you to have this.')\n",
      "('Decoded sentence:', 'Je veux que tu as dit de nous rendre.\\n')\n",
      "-\n",
      "('Input sentence:', \"I'm shaken.\")\n",
      "('Decoded sentence:', 'Je suis d\\xc3\\xa9sol\\xc3\\xa9.\\n')\n",
      "-\n",
      "('Input sentence:', \"It's not the same thing.\")\n",
      "('Decoded sentence:', \"C'est un peu de temps.\\n\")\n",
      "-\n",
      "('Input sentence:', 'He wants to squish the bug.')\n",
      "('Decoded sentence:', \"Il a dit qu'il a dit qu'il a dit.\\n\")\n",
      "-\n",
      "('Input sentence:', \"I've found the leak.\")\n",
      "('Decoded sentence:', \"Je vous ai dit de l'argent.\\n\")\n",
      "-\n",
      "('Input sentence:', 'Where did you get the money to buy that dress?')\n",
      "('Decoded sentence:', 'Qui a pris un peu de temps pour le faire ?\\n')\n",
      "-\n",
      "('Input sentence:', 'Ask anybody.')\n",
      "('Decoded sentence:', 'Restez tout ce que tu as fait.\\n')\n",
      "-\n",
      "('Input sentence:', \"Don't hold it upside down.\")\n",
      "('Decoded sentence:', 'Ne me dit pas ce que tu as fait.\\n')\n",
      "-\n",
      "('Input sentence:', 'We have to do that as soon as we can.')\n",
      "('Decoded sentence:', 'Nous avons d\\xc3\\xa9j\\xc3\\xa0 entendu des choses de la porte.\\n')\n",
      "-\n",
      "('Input sentence:', 'No one was in the swimming pool.')\n",
      "('Decoded sentence:', 'Personne ne parle en train de me dire.\\n')\n",
      "-\n",
      "('Input sentence:', 'I had nowhere else to go.')\n",
      "('Decoded sentence:', 'Je voulais vous avoir fait.\\n')\n",
      "-\n",
      "('Input sentence:', 'Both Tom and Mary look sad.')\n",
      "('Decoded sentence:', 'Les chats sont des probl\\xc3\\xa8mes de la police de conseil.\\n')\n",
      "-\n",
      "('Input sentence:', 'You should come over this evening for dinner.')\n",
      "('Decoded sentence:', \"Vous avez des probl\\xc3\\xa8mes de la police de ce qui s'est pass\\xc3\\xa9.\\n\")\n",
      "-\n",
      "('Input sentence:', \"You're not a teenager yet.\")\n",
      "('Decoded sentence:', 'Vous \\xc3\\xaates tr\\xc3\\xa8s bonne ici.\\n')\n",
      "-\n",
      "('Input sentence:', 'The door will be painted tomorrow.')\n",
      "('Decoded sentence:', 'Le concert de compte de la conseille.\\n')\n",
      "-\n",
      "('Input sentence:', \"Tom's parents are missing.\")\n",
      "('Decoded sentence:', 'Tom est un peu de temps.\\n')\n",
      "-\n",
      "('Input sentence:', 'Everybody is relying on you.')\n",
      "('Decoded sentence:', 'Tout le monde a dit que tu veux.\\n')\n",
      "-\n",
      "('Input sentence:', 'He took advantage of the opportunity.')\n",
      "('Decoded sentence:', \"Il a dit qu'il a dit qu'il a dit.\\n\")\n",
      "-\n",
      "('Input sentence:', 'Fully booked for the night, the hotel had to turn away some late guests.')\n",
      "('Decoded sentence:', 'Personne ne peut pas rester avec lui de la porte de la porte de la porte.\\n')\n",
      "-\n",
      "('Input sentence:', 'Did Tom find it?')\n",
      "('Decoded sentence:', 'As-tu d\\xc3\\xa9j\\xc3\\xa0 fait ?\\n')\n",
      "-\n",
      "('Input sentence:', 'I want you back.')\n",
      "('Decoded sentence:', 'Je suis d\\xc3\\xa9sol\\xc3\\xa9 de vous.\\n')\n",
      "-\n",
      "('Input sentence:', \"I'm really busy right now.\")\n",
      "('Decoded sentence:', 'Je suis d\\xc3\\xa9sol\\xc3\\xa9 de vous demander.\\n')\n",
      "-\n",
      "('Input sentence:', 'Can you open the window?')\n",
      "('Decoded sentence:', 'Peux-tu me dire ce que je vous prie ?\\n')\n",
      "-\n",
      "('Input sentence:', \"I need everyone's help tomorrow.\")\n",
      "('Decoded sentence:', \"J'ai d\\xc3\\xa9j\\xc3\\xa0 fait ce que tu as fait.\\n\")\n",
      "-\n",
      "('Input sentence:', 'They showed me a lot of nice pictures.')\n",
      "('Decoded sentence:', 'Ils ont attendu la porte de la porte de la porte.\\n')\n",
      "-\n",
      "('Input sentence:', 'Beware of jellyfish.')\n",
      "('Decoded sentence:', 'Les chats sont tr\\xc3\\xa8s bonnes.\\n')\n"
     ]
    },
    {
     "name": "stdout",
     "output_type": "stream",
     "text": [
      "-\n",
      "('Input sentence:', 'French was the language of diplomacy.')\n",
      "('Decoded sentence:', 'Les chats sont des probl\\xc3\\xa8mes de la police.\\n')\n",
      "-\n",
      "('Input sentence:', 'She asked him questions.')\n",
      "('Decoded sentence:', \"Elle l'a dit qu'il a dit.\\n\")\n",
      "-\n",
      "('Input sentence:', \"I'll lend you the tools that you need to do that.\")\n",
      "('Decoded sentence:', 'Je ne peux pas vous dire ce que tu as dit de ne pas vouloir.\\n')\n",
      "-\n",
      "('Input sentence:', \"Aren't you going to give me a kiss?\")\n",
      "('Decoded sentence:', 'Nous avons d\\xc3\\xa9j\\xc3\\xa0 entendu des choses de la police.\\n')\n",
      "-\n",
      "('Input sentence:', \"It's no use thinking about one's lost youth.\")\n",
      "('Decoded sentence:', \"Ce n'est pas la porte de la porte de la porte.\\n\")\n",
      "-\n",
      "('Input sentence:', \"Tom's grandfather was illiterate.\")\n",
      "('Decoded sentence:', \"Tom a dit qu'il ne pouvait pas le faire.\\n\")\n",
      "-\n",
      "('Input sentence:', \"Didn't you promise never to tell a lie?\")\n",
      "('Decoded sentence:', 'Ne voulez-vous pas de ce que je voulais ?\\n')\n",
      "-\n",
      "('Input sentence:', 'Where are you planning to stay?')\n",
      "('Decoded sentence:', 'Qui est le moindre chance ?\\n')\n",
      "-\n",
      "('Input sentence:', 'You have done a wonderful job.')\n",
      "('Decoded sentence:', 'Vous avez des probl\\xc3\\xa8mes de la porte.\\n')\n",
      "-\n",
      "('Input sentence:', 'She got me a tiny toy.')\n",
      "('Decoded sentence:', \"Elle l'a dit qu'il ne sait pas.\\n\")\n",
      "-\n",
      "('Input sentence:', 'An old man was resting in the shade of the tree.')\n",
      "('Decoded sentence:', \"Un chien de ce qui s'est pass\\xc3\\xa9 le probl\\xc3\\xa8me.\\n\")\n",
      "-\n",
      "('Input sentence:', 'We ate together.')\n",
      "('Decoded sentence:', 'Nous sommes tous les deux.\\n')\n",
      "-\n",
      "('Input sentence:', \"Worrying is like paying a debt you don't owe.\")\n",
      "('Decoded sentence:', 'As-tu d\\xc3\\xa9j\\xc3\\xa0 entendu des choses de ce que je voulais ?\\n')\n",
      "-\n",
      "('Input sentence:', 'Are you content with your position in the company?')\n",
      "('Decoded sentence:', 'Es-tu s\\xc3\\xbbr que vous avez des choses de ce que je voulais ?\\n')\n",
      "-\n",
      "('Input sentence:', 'You have to go.')\n",
      "('Decoded sentence:', 'Vous \\xc3\\xaates tr\\xc3\\xa8s bonnes.\\n')\n",
      "-\n",
      "('Input sentence:', \"This storm is not dangerous. You don't need to worry.\")\n",
      "('Decoded sentence:', \"Ce n'est pas la porte de la porte de la porte de la porte.\\n\")\n",
      "-\n",
      "('Input sentence:', 'I forgot my email address.')\n",
      "('Decoded sentence:', \"J'ai pens\\xc3\\xa9 que vous \\xc3\\xaates intentions.\\n\")\n",
      "-\n",
      "('Input sentence:', 'Get real, will you?')\n",
      "('Decoded sentence:', 'Les chats sont tr\\xc3\\xa8s bonnes.\\n')\n",
      "-\n",
      "('Input sentence:', 'I fear no one.')\n",
      "('Decoded sentence:', 'Je suis d\\xc3\\xa9sol\\xc3\\xa9 de vous.\\n')\n",
      "-\n",
      "('Input sentence:', 'This medicine is good for headaches.')\n",
      "('Decoded sentence:', \"Ce n'est pas la porte de la porte.\\n\")\n",
      "-\n",
      "('Input sentence:', 'The sky is becoming cloudy.')\n",
      "('Decoded sentence:', 'Le chien de conseille de chance.\\n')\n",
      "-\n",
      "('Input sentence:', 'Our server will be offline on October 20th for scheduled maintenance.')\n",
      "('Decoded sentence:', 'Un coup de chanson a \\xc3\\xa9t\\xc3\\xa9 au courant de la police de ce que je voulais.\\n')\n",
      "-\n",
      "('Input sentence:', 'We talked in sign language.')\n",
      "('Decoded sentence:', 'Nous avons tout de la maison.\\n')\n",
      "-\n",
      "('Input sentence:', \"Where's the source of this river?\")\n",
      "('Decoded sentence:', 'Qui est le moindre chance ?\\n')\n",
      "-\n",
      "('Input sentence:', 'My nose is running.')\n",
      "('Decoded sentence:', 'Vous \\xc3\\xaates tr\\xc3\\xa8s bonne ici.\\n')\n",
      "-\n",
      "('Input sentence:', 'When did you buy it?')\n",
      "('Decoded sentence:', 'Quand as-tu fait ?\\n')\n",
      "-\n",
      "('Input sentence:', \"Let's end this debate.\")\n",
      "('Decoded sentence:', 'Laissez-moi un peu de temps.\\n')\n",
      "-\n",
      "('Input sentence:', \"Tom didn't have dinner last night.\")\n",
      "('Decoded sentence:', \"Tom a dit qu'il ne pouvait pas le faire.\\n\")\n",
      "-\n",
      "('Input sentence:', 'We have to draw a line somewhere.')\n",
      "('Decoded sentence:', 'Nous avons tout de la maison de la porte.\\n')\n",
      "-\n",
      "('Input sentence:', \"We've got to take Tom to the doctor.\")\n",
      "('Decoded sentence:', 'Nous avons d\\xc3\\xa9j\\xc3\\xa0 entendu des choses de la porte.\\n')\n",
      "-\n",
      "('Input sentence:', 'My wife is a good manager.')\n",
      "('Decoded sentence:', 'Mon p\\xc3\\xa8re est un peu de temps.\\n')\n",
      "-\n",
      "('Input sentence:', \"Don't let Tom hit you.\")\n",
      "('Decoded sentence:', 'Ne me dit pas ce que tu as fait.\\n')\n",
      "-\n",
      "('Input sentence:', 'Do you want me to wait?')\n",
      "('Decoded sentence:', \"Vous ai-je tout \\xc3\\xa0 l'\\xc3\\xa9cole ?\\n\")\n",
      "-\n",
      "('Input sentence:', 'I liked your friends.')\n",
      "('Decoded sentence:', \"J'aime le travail \\xc3\\xa0 la maison.\\n\")\n"
     ]
    }
   ],
   "source": [
    "for seq_index in range(100):\n",
    "    # Take one sequence (part of the training set)\n",
    "    # for trying out decoding.\n",
    "    [encoder_input_data, _], _ = eval_generator.__getitem__(seq_index)\n",
    "    [encoder_input_text, _], _ = eval_generator.eval_batch(seq_index)\n",
    "    input_seq = encoder_input_data\n",
    "    decoded_sentence = decode_sequence(input_seq)\n",
    "    print('-')\n",
    "    print('Input sentence:', encoder_input_text[0])\n",
    "    print('Decoded sentence:', decoded_sentence)"
   ]
  }
 ],
 "metadata": {
  "kernelspec": {
   "display_name": "Python 2",
   "language": "python",
   "name": "python2"
  },
  "language_info": {
   "codemirror_mode": {
    "name": "ipython",
    "version": 2
   },
   "file_extension": ".py",
   "mimetype": "text/x-python",
   "name": "python",
   "nbconvert_exporter": "python",
   "pygments_lexer": "ipython2",
   "version": "2.7.13"
  }
 },
 "nbformat": 4,
 "nbformat_minor": 1
}
