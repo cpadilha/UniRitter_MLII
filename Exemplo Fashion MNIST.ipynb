{
  "cells": [
    {
      "metadata": {
        "_uuid": "8f2839f25d086af736a60e9eeb907d3b93b6e0e5",
        "_cell_guid": "b1076dfc-b9ad-4769-8c92-a6c4dae69d19",
        "trusted": true
      },
      "cell_type": "code",
      "source": "# This Python 3 environment comes with many helpful analytics libraries installed\n# It is defined by the kaggle/python docker image: https://github.com/kaggle/docker-python\n# For example, here's several helpful packages to load in \n\nimport numpy as np # linear algebra\nimport pandas as pd # data processing, CSV file I/O (e.g. pd.read_csv)\n\n# Input data files are available in the \"../input/\" directory.\n# For example, running this (by clicking run or pressing Shift+Enter) will list the files in the input directory\n\nimport os\nprint(os.listdir(\"../input\"))\n\n# Any results you write to the current directory are saved as output.",
      "execution_count": 3,
      "outputs": [
        {
          "output_type": "stream",
          "text": "['fashionmnist', 'imagem-test']\n",
          "name": "stdout"
        }
      ]
    },
    {
      "metadata": {
        "_cell_guid": "79c7e3d0-c299-4dcb-8224-4455121ee9b0",
        "_uuid": "d629ff2d2480ee46fbb7e2d37f6b5fab8052498a",
        "trusted": true
      },
      "cell_type": "code",
      "source": "train_df = pd.read_csv('../input/fashionmnist/fashion-mnist_train.csv')\ntest_df = pd.read_csv('../input/fashionmnist/fashion-mnist_test.csv')",
      "execution_count": 4,
      "outputs": []
    },
    {
      "metadata": {
        "trusted": true,
        "_uuid": "2bdaf94ea85b3c895571942d993bea72072f58b0",
        "collapsed": true
      },
      "cell_type": "code",
      "source": "train_data = train_df.get_values()\ntest_data = test_df.get_values()",
      "execution_count": 5,
      "outputs": []
    },
    {
      "metadata": {
        "trusted": true,
        "collapsed": true,
        "_uuid": "fd96fac5369787240d4e2e31b7dee02e516c2448"
      },
      "cell_type": "code",
      "source": "train_imgs = train_data[:,1:]\ntrain_labels = train_data[:,0]\n\ntest_imgs = test_data[:,1:]\ntest_labels = test_data[:,0]",
      "execution_count": 6,
      "outputs": []
    },
    {
      "metadata": {
        "trusted": true,
        "_uuid": "d34ae2b1d21f0b158c8a0bfa36d6a1b4d3baa437"
      },
      "cell_type": "code",
      "source": "train_imgs.shape, train_labels.shape",
      "execution_count": 7,
      "outputs": [
        {
          "output_type": "execute_result",
          "execution_count": 7,
          "data": {
            "text/plain": "((60000, 784), (60000,))"
          },
          "metadata": {}
        }
      ]
    },
    {
      "metadata": {
        "trusted": true,
        "collapsed": true,
        "_uuid": "7bff34e0f36b8b9b9c6122cc04491a32f4c0231e"
      },
      "cell_type": "code",
      "source": "train_imgs = train_imgs.reshape((60000, 28, 28, 1))\ntest_imgs = test_imgs.reshape((10000, 28, 28, 1))",
      "execution_count": 8,
      "outputs": []
    },
    {
      "metadata": {
        "trusted": true,
        "collapsed": true,
        "_uuid": "c4764dbde5752ebc541b5c7a979b9df66560924c"
      },
      "cell_type": "code",
      "source": "from __future__ import division",
      "execution_count": 9,
      "outputs": []
    },
    {
      "metadata": {
        "trusted": true,
        "collapsed": true,
        "_uuid": "8a3466f9901d5274e8214aed2a4050cba9084947"
      },
      "cell_type": "code",
      "source": "train_imgs = train_imgs / 255\ntest_imgs = test_imgs / 255",
      "execution_count": 10,
      "outputs": []
    },
    {
      "metadata": {
        "trusted": true,
        "_uuid": "0413ec10ff65780ef01042208c40fc62eccbc798"
      },
      "cell_type": "code",
      "source": "train_imgs.shape",
      "execution_count": 11,
      "outputs": [
        {
          "output_type": "execute_result",
          "execution_count": 11,
          "data": {
            "text/plain": "(60000, 28, 28, 1)"
          },
          "metadata": {}
        }
      ]
    },
    {
      "metadata": {
        "trusted": true,
        "_uuid": "1e56093e84e8be48b91ebb0194e4095dbb95b27b"
      },
      "cell_type": "code",
      "source": "from keras.utils import to_categorical",
      "execution_count": 12,
      "outputs": [
        {
          "output_type": "stream",
          "text": "/opt/conda/lib/python3.6/site-packages/h5py/__init__.py:36: FutureWarning: Conversion of the second argument of issubdtype from `float` to `np.floating` is deprecated. In future, it will be treated as `np.float64 == np.dtype(float).type`.\n  from ._conv import register_converters as _register_converters\nUsing TensorFlow backend.\n",
          "name": "stderr"
        }
      ]
    },
    {
      "metadata": {
        "trusted": true,
        "collapsed": true,
        "_uuid": "851207c034ff4a809f622ad432a201ec2ea172b7"
      },
      "cell_type": "code",
      "source": "train_labels = to_categorical(train_labels, num_classes=10)\ntest_labels = to_categorical(test_labels, num_classes=10)",
      "execution_count": 13,
      "outputs": []
    },
    {
      "metadata": {
        "trusted": true,
        "collapsed": true,
        "_uuid": "e8fa840caf4e08b79c438cf2540d24dcfc21e97c"
      },
      "cell_type": "code",
      "source": "import matplotlib.pyplot as plt\n%matplotlib inline",
      "execution_count": 14,
      "outputs": []
    },
    {
      "metadata": {
        "trusted": true,
        "_uuid": "b7ca1078a2cd0d78832abdc6ace2a9501521fede"
      },
      "cell_type": "code",
      "source": "plt.imshow(train_imgs[4,:,:,0])",
      "execution_count": 15,
      "outputs": [
        {
          "output_type": "execute_result",
          "execution_count": 15,
          "data": {
            "text/plain": "<matplotlib.image.AxesImage at 0x7f43186dc160>"
          },
          "metadata": {}
        },
        {
          "output_type": "display_data",
          "data": {
            "text/plain": "<matplotlib.figure.Figure at 0x7f4318490a58>",
            "image/png": "[encoded data removed]"
          },
          "metadata": {}
        }
      ]
    },
    {
      "metadata": {
        "_uuid": "b7778843a4144692d9e39807cd630c5ae4347db8"
      },
      "cell_type": "markdown",
      "source": "<h2>Construindo a rede</h2>"
    },
    {
      "metadata": {
        "trusted": true,
        "collapsed": true,
        "_uuid": "58c51f9053368920db0256b80bdc911603bc9be4"
      },
      "cell_type": "code",
      "source": "from keras.models import *\nfrom keras.layers import *",
      "execution_count": 16,
      "outputs": []
    },
    {
      "metadata": {
        "trusted": true,
        "_uuid": "7b1b6208484456bc703c177251717329149900b3"
      },
      "cell_type": "code",
      "source": "input_node = Input(shape=(28, 28, 1))\n\nconv1 = Conv2D(32, \n               (3, 3), \n               strides=1, \n               padding='same', \n               activation='relu')(input_node)\npool1 = MaxPooling2D((2, 2), strides=(2, 2))(conv1)\n\nconv2 = Conv2D(64, \n               (3, 3), \n               strides=1, \n               padding='same', \n               activation='relu')(pool1)\npool2 = MaxPooling2D((2, 2), strides=(2, 2))(conv2)\n\nconv3 = Conv2D(128, \n               (3, 3), \n               strides=1, \n               padding='same', \n               activation='relu')(pool2)\npool3 = MaxPooling2D((2, 2), \n                     strides=(2, 2),\n                     padding='same')(conv3)\nflat = Flatten()(pool3)\nout = Dense(10, activation='softmax')(flat)\n\nmodel = Model(input_node, out)\nmodel.summary()",
      "execution_count": 17,
      "outputs": [
        {
          "output_type": "stream",
          "text": "_________________________________________________________________\nLayer (type)                 Output Shape              Param #   \n=================================================================\ninput_1 (InputLayer)         (None, 28, 28, 1)         0         \n_________________________________________________________________\nconv2d_1 (Conv2D)            (None, 28, 28, 32)        320       \n_________________________________________________________________\nmax_pooling2d_1 (MaxPooling2 (None, 14, 14, 32)        0         \n_________________________________________________________________\nconv2d_2 (Conv2D)            (None, 14, 14, 64)        18496     \n_________________________________________________________________\nmax_pooling2d_2 (MaxPooling2 (None, 7, 7, 64)          0         \n_________________________________________________________________\nconv2d_3 (Conv2D)            (None, 7, 7, 128)         73856     \n_________________________________________________________________\nmax_pooling2d_3 (MaxPooling2 (None, 4, 4, 128)         0         \n_________________________________________________________________\nflatten_1 (Flatten)          (None, 2048)              0         \n_________________________________________________________________\ndense_1 (Dense)              (None, 10)                20490     \n=================================================================\nTotal params: 113,162\nTrainable params: 113,162\nNon-trainable params: 0\n_________________________________________________________________\n",
          "name": "stdout"
        }
      ]
    },
    {
      "metadata": {
        "trusted": true,
        "collapsed": true,
        "_uuid": "8b321cad8691139ef8c18a203e72fcefc40f7074"
      },
      "cell_type": "code",
      "source": "# model.load_weights('logs/')",
      "execution_count": 18,
      "outputs": []
    },
    {
      "metadata": {
        "trusted": true,
        "collapsed": true,
        "_uuid": "68d1d7f5387ccb236325b8dd8d8cc2d12e423fad"
      },
      "cell_type": "code",
      "source": "model.compile(optimizer='Adam', \n              loss='categorical_crossentropy',\n              metrics=['accuracy'])",
      "execution_count": 19,
      "outputs": []
    },
    {
      "metadata": {
        "trusted": true,
        "collapsed": true,
        "_uuid": "48cbd87a08c03639e6ae519ad842b6296a5545e3"
      },
      "cell_type": "code",
      "source": "from keras.callbacks import *\n\nfolder = 'logs/'\nif not os.path.isdir(folder):\n    os.makedirs(folder)\n\nmodel_checkpoint = ModelCheckpoint(monitor='val_loss',\n                                   filepath=folder+'model-{epoch:2d}-{loss:2.4f}-{acc:.2f}-{val_loss:.4f}-{val_acc:.2f}.hdf5',\n                                   verbose=1,\n                                   save_best_only=True)\nearly_stop = EarlyStopping(monitor='val_loss', patience=3)\n\ncallbacks = [model_checkpoint, early_stop]",
      "execution_count": 20,
      "outputs": []
    },
    {
      "metadata": {
        "trusted": true,
        "_uuid": "1848c35cb0018355663d32968f2494a5bbfb759f"
      },
      "cell_type": "code",
      "source": "model.fit(train_imgs, train_labels, epochs=20, \n          validation_data=(test_imgs, test_labels),\n          callbacks=callbacks)",
      "execution_count": 21,
      "outputs": [
        {
          "output_type": "stream",
          "text": "Train on 60000 samples, validate on 10000 samples\nEpoch 1/20\n60000/60000 [==============================] - 25s 420us/step - loss: 0.4262 - acc: 0.8456 - val_loss: 0.3500 - val_acc: 0.8751\n\nEpoch 00001: val_loss improved from inf to 0.35000, saving model to logs/model- 1-0.4262-0.85-0.3500-0.88.hdf5\nEpoch 2/20\n60000/60000 [==============================] - 20s 338us/step - loss: 0.2781 - acc: 0.8991 - val_loss: 0.2697 - val_acc: 0.8990\n\nEpoch 00002: val_loss improved from 0.35000 to 0.26971, saving model to logs/model- 2-0.2781-0.90-0.2697-0.90.hdf5\nEpoch 3/20\n60000/60000 [==============================] - 20s 337us/step - loss: 0.2343 - acc: 0.9150 - val_loss: 0.2519 - val_acc: 0.9089\n\nEpoch 00003: val_loss improved from 0.26971 to 0.25191, saving model to logs/model- 3-0.2343-0.91-0.2519-0.91.hdf5\nEpoch 4/20\n60000/60000 [==============================] - 20s 339us/step - loss: 0.2043 - acc: 0.9265 - val_loss: 0.2139 - val_acc: 0.9230\n\nEpoch 00004: val_loss improved from 0.25191 to 0.21391, saving model to logs/model- 4-0.2043-0.93-0.2139-0.92.hdf5\nEpoch 5/20\n60000/60000 [==============================] - 20s 337us/step - loss: 0.1799 - acc: 0.9354 - val_loss: 0.2192 - val_acc: 0.9218\n\nEpoch 00005: val_loss did not improve\nEpoch 6/20\n60000/60000 [==============================] - 20s 338us/step - loss: 0.1563 - acc: 0.9438 - val_loss: 0.2183 - val_acc: 0.9232\n\nEpoch 00006: val_loss did not improve\nEpoch 7/20\n60000/60000 [==============================] - 20s 338us/step - loss: 0.1392 - acc: 0.9500 - val_loss: 0.2243 - val_acc: 0.9234\n\nEpoch 00007: val_loss did not improve\n",
          "name": "stdout"
        },
        {
          "output_type": "execute_result",
          "execution_count": 21,
          "data": {
            "text/plain": "<keras.callbacks.History at 0x7f4380ff1e10>"
          },
          "metadata": {}
        }
      ]
    },
    {
      "metadata": {
        "trusted": true,
        "collapsed": true,
        "_uuid": "f6bc94cc3e2c94a952e9d4a4217f20b0e6602904"
      },
      "cell_type": "markdown",
      "source": "<h2>Testando Imagem Real</h2>"
    },
    {
      "metadata": {
        "trusted": true,
        "collapsed": true,
        "_uuid": "cb9669232eb9163c56e60f9f06a6fcf876e6733f"
      },
      "cell_type": "code",
      "source": "import cv2",
      "execution_count": 23,
      "outputs": []
    },
    {
      "metadata": {
        "trusted": true,
        "_uuid": "df7e2d7f05f129dbd73400432da3a35650404c66"
      },
      "cell_type": "code",
      "source": "test_img = cv2.imread('../input/imagem-test/1db78fa09e5493a7091e98900fa22f4b-product.jpg', 0)",
      "execution_count": 24,
      "outputs": []
    },
    {
      "metadata": {
        "trusted": true,
        "collapsed": true,
        "_uuid": "08e73597b76b31db2a20c7bee2a547041d470d69"
      },
      "cell_type": "code",
      "source": "test_img = cv2.resize(test_img, (28,28))",
      "execution_count": 27,
      "outputs": []
    },
    {
      "metadata": {
        "trusted": true,
        "_uuid": "06ba424dd8e738fa1b7adb700a607688b32850e5"
      },
      "cell_type": "code",
      "source": "plt.imshow(test_img)",
      "execution_count": 28,
      "outputs": [
        {
          "output_type": "execute_result",
          "execution_count": 28,
          "data": {
            "text/plain": "<matplotlib.image.AxesImage at 0x7f43000ec048>"
          },
          "metadata": {}
        },
        {
          "output_type": "display_data",
          "data": {
            "text/plain": "<matplotlib.figure.Figure at 0x7f4300062b70>",
            "image/png": "[encoded data removed]"
          },
          "metadata": {}
        }
      ]
    },
    {
      "metadata": {
        "trusted": true,
        "collapsed": true,
        "_uuid": "ed8c187fd1040ea9730483e4f5229a57d981d066"
      },
      "cell_type": "code",
      "source": "test_img = test_img.reshape((28, 28, 1))\ntest_img = np.expand_dims(test_img, 0)",
      "execution_count": 29,
      "outputs": []
    },
    {
      "metadata": {
        "trusted": true,
        "_uuid": "1d1134be56b378c4354b03c234dc68dcac29c3cc"
      },
      "cell_type": "code",
      "source": "test_img = test_img / 255",
      "execution_count": 34,
      "outputs": []
    },
    {
      "metadata": {
        "trusted": true,
        "_uuid": "7d6b34fd32f3e20c24c28d20f05068c1309d6bb7"
      },
      "cell_type": "code",
      "source": "np.round(model.predict(test_img), 3)",
      "execution_count": 37,
      "outputs": [
        {
          "output_type": "execute_result",
          "execution_count": 37,
          "data": {
            "text/plain": "array([[0.017, 0.   , 0.   , 0.   , 0.   , 0.   , 0.523, 0.   , 0.458,\n        0.001]], dtype=float32)"
          },
          "metadata": {}
        }
      ]
    },
    {
      "metadata": {
        "trusted": true,
        "collapsed": true,
        "_uuid": "d7a2e440f994e9e8b8a7cdbca3f5edcf0954385e"
      },
      "cell_type": "code",
      "source": "",
      "execution_count": null,
      "outputs": []
    }
  ],
  "metadata": {
    "kernelspec": {
      "display_name": "Python 3",
      "language": "python",
      "name": "python3"
    },
    "language_info": {
      "name": "python",
      "version": "3.6.4",
      "mimetype": "text/x-python",
      "codemirror_mode": {
        "name": "ipython",
        "version": 3
      },
      "pygments_lexer": "ipython3",
      "nbconvert_exporter": "python",
      "file_extension": ".py"
    }
  },
  "nbformat": 4,
  "nbformat_minor": 1
}