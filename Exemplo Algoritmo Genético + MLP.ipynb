{
 "cells": [
  {
   "cell_type": "code",
   "execution_count": 105,
   "metadata": {},
   "outputs": [],
   "source": [
    "import numpy as np\n",
    "\n",
    "from sklearn.metrics import accuracy_score\n",
    "from sklearn.neural_network import MLPClassifier"
   ]
  },
  {
   "cell_type": "markdown",
   "metadata": {},
   "source": [
    "<h2>Gerar população</h2>"
   ]
  },
  {
   "cell_type": "code",
   "execution_count": 9,
   "metadata": {},
   "outputs": [],
   "source": [
    "# MLP\n",
    "## Numero de camadas ocultas 1 - 3 (representacao binária 2)\n",
    "## Numero neuronios 1 - 1000 (representacao binária tamanho 10)"
   ]
  },
  {
   "cell_type": "code",
   "execution_count": 25,
   "metadata": {},
   "outputs": [],
   "source": [
    "def gerar_populacao(n_ind):\n",
    "    \n",
    "    populacao = []\n",
    "    for i in range(n_ind):\n",
    "        n_camadas = np.random.randint(1, 4)\n",
    "        n_neuronios = np.random.randint(1, 1001)\n",
    "        \n",
    "        bin_n_camadas = np.binary_repr(n_camadas, width=2)\n",
    "        bin_n_neuronios = np.binary_repr(n_neuronios, width=10)\n",
    "        \n",
    "        crom = list(bin_n_camadas + bin_n_neuronios)\n",
    "        populacao.append(crom)\n",
    "    \n",
    "    return populacao"
   ]
  },
  {
   "cell_type": "code",
   "execution_count": 63,
   "metadata": {},
   "outputs": [],
   "source": [
    "def binary_converter(arr):\n",
    "    total = 0\n",
    "    for index, val in enumerate(reversed(arr)):\n",
    "        total += (val * 2**index)\n",
    "    print total"
   ]
  },
  {
   "cell_type": "code",
   "execution_count": 106,
   "metadata": {},
   "outputs": [],
   "source": [
    "def avaliar_individuo(individuo, x_train, y_train, x_test, y_test):\n",
    "    \"\"\"\n",
    "        individuo: cromossomo\n",
    "        x_train: dados para treino\n",
    "        y_train: labels do treino\n",
    "        x_test: dados para teste\n",
    "        y_test: labels do teste\n",
    "    \"\"\"\n",
    "    \n",
    "    info_n_camadas = int(''.join(individuo[:2]), 2)\n",
    "    info_n_neuronios = int(''.join(individuo[2:]), 2)\n",
    "    \n",
    "    hidden_layers = (info_n_neuronios for i in range(info_n_camadas))\n",
    "    \n",
    "    mlp = MLPClassifier(hidden_layer_sizes=hidden_layers)\n",
    "    mlp.fit(x_train, y_train)\n",
    "    \n",
    "    y_pred = mlp.predict(x_test)\n",
    "    \n",
    "    return accuracy_score(y_test, y_pred)"
   ]
  },
  {
   "cell_type": "code",
   "execution_count": 107,
   "metadata": {},
   "outputs": [],
   "source": [
    "def crossover(ind1, ind2):\n",
    "    \n",
    "    ponto_corte = np.random.randint(1, 11)\n",
    "    \n",
    "    ind3 = ind1[:ponto_corte] + ind2[ponto_corte:]\n",
    "    ind4 = ind2[:ponto_corte] + ind1[ponto_corte:]\n",
    "    \n",
    "    return ind3, ind4"
   ]
  },
  {
   "cell_type": "code",
   "execution_count": null,
   "metadata": {},
   "outputs": [],
   "source": []
  }
 ],
 "metadata": {
  "kernelspec": {
   "display_name": "Python 2",
   "language": "python",
   "name": "python2"
  },
  "language_info": {
   "codemirror_mode": {
    "name": "ipython",
    "version": 2
   },
   "file_extension": ".py",
   "mimetype": "text/x-python",
   "name": "python",
   "nbconvert_exporter": "python",
   "pygments_lexer": "ipython2",
   "version": "2.7.15"
  }
 },
 "nbformat": 4,
 "nbformat_minor": 2
}
