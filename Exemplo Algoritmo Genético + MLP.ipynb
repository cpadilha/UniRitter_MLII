{
 "cells": [
  {
   "cell_type": "code",
   "execution_count": 1,
   "metadata": {},
   "outputs": [],
   "source": [
    "from __future__ import division\n",
    "import numpy as np\n",
    "\n",
    "from sklearn.metrics import accuracy_score\n",
    "from sklearn.neural_network import MLPClassifier"
   ]
  },
  {
   "cell_type": "markdown",
   "metadata": {},
   "source": [
    "<h2>Gerar população</h2>"
   ]
  },
  {
   "cell_type": "code",
   "execution_count": 2,
   "metadata": {},
   "outputs": [],
   "source": [
    "# MLP\n",
    "## Numero de camadas ocultas 1 - 3 (representacao binária 2)\n",
    "## Numero neuronios 1 - 1000 (representacao binária tamanho 10)"
   ]
  },
  {
   "cell_type": "code",
   "execution_count": 3,
   "metadata": {},
   "outputs": [],
   "source": [
    "def gerar_populacao(n_ind):\n",
    "    \n",
    "    populacao = []\n",
    "    for i in range(n_ind):\n",
    "        n_camadas = np.random.randint(1, 4)\n",
    "        n_neuronios = np.random.randint(1, 1001)\n",
    "        \n",
    "        bin_n_camadas = np.binary_repr(n_camadas, width=2)\n",
    "        bin_n_neuronios = np.binary_repr(n_neuronios, width=10)\n",
    "        \n",
    "        crom = list(bin_n_camadas + bin_n_neuronios)\n",
    "        populacao.append(crom)\n",
    "    \n",
    "    return populacao"
   ]
  },
  {
   "cell_type": "code",
   "execution_count": 5,
   "metadata": {},
   "outputs": [],
   "source": [
    "def binary_converter(arr):\n",
    "    total = 0\n",
    "    for index, val in enumerate(reversed(arr)):\n",
    "        total += (val * 2**index)\n",
    "    print(total)"
   ]
  },
  {
   "cell_type": "markdown",
   "metadata": {},
   "source": [
    "<h2>Avaliar Indivíduo</h2>"
   ]
  },
  {
   "cell_type": "code",
   "execution_count": 6,
   "metadata": {},
   "outputs": [],
   "source": [
    "def avaliar_individuo(individuo, x_train, y_train, x_test, y_test):\n",
    "    \"\"\"\n",
    "        individuo: cromossomo\n",
    "        x_train: dados para treino\n",
    "        y_train: labels do treino\n",
    "        x_test: dados para teste\n",
    "        y_test: labels do teste\n",
    "    \"\"\"\n",
    "    \n",
    "    info_n_camadas = int(''.join(individuo[:2]), 2)\n",
    "    info_n_neuronios = int(''.join(individuo[2:]), 2)\n",
    "    \n",
    "    if info_n_camadas == 0 or info_n_neuronios == 0:\n",
    "        return 0\n",
    "    else:\n",
    "        hidden_layers = [info_n_neuronios for i in range(info_n_camadas)]\n",
    "\n",
    "        mlp = MLPClassifier(hidden_layer_sizes=hidden_layers)\n",
    "        mlp.fit(x_train, y_train)\n",
    "\n",
    "        y_pred = mlp.predict(x_test)\n",
    "\n",
    "        return accuracy_score(y_test, y_pred)"
   ]
  },
  {
   "cell_type": "markdown",
   "metadata": {},
   "source": [
    "<h2>Crossover</h2>"
   ]
  },
  {
   "cell_type": "code",
   "execution_count": 7,
   "metadata": {},
   "outputs": [],
   "source": [
    "def crossover(ind1, ind2):\n",
    "    \n",
    "    ponto_corte = np.random.randint(1, 11)\n",
    "    \n",
    "    ind3 = ind1[:ponto_corte] + ind2[ponto_corte:]\n",
    "    ind4 = ind2[:ponto_corte] + ind1[ponto_corte:]\n",
    "    \n",
    "    return ind3, ind4"
   ]
  },
  {
   "cell_type": "markdown",
   "metadata": {},
   "source": [
    "<h2>Mutação</h2>"
   ]
  },
  {
   "cell_type": "code",
   "execution_count": 8,
   "metadata": {},
   "outputs": [],
   "source": [
    "def mutacao(ind):\n",
    "    \n",
    "    thresh = 0.1\n",
    "    \n",
    "    for i in range(len(ind)):\n",
    "        v = np.random.rand()\n",
    "        if v <= thresh:\n",
    "            ind[i] = str(1 - int(ind[i]))\n",
    "    \n",
    "    return ind"
   ]
  },
  {
   "cell_type": "markdown",
   "metadata": {},
   "source": [
    "<h2>Atualização</h2>"
   ]
  },
  {
   "cell_type": "code",
   "execution_count": 9,
   "metadata": {},
   "outputs": [],
   "source": [
    "def atualizacao(pop, tam_pop=20, **kwargs):\n",
    "    \n",
    "    scores = []\n",
    "    for ind in pop:\n",
    "        scores.append(avaliar_individuo(ind, **kwargs))\n",
    "        \n",
    "    sort_indexes = np.argsort(scores)\n",
    "    \n",
    "    new_pop = []\n",
    "    \n",
    "    for i in reversed(range(1, tam_pop+1)):\n",
    "        idx = sort_indexes[-i]\n",
    "        new_pop.append(pop[idx])\n",
    "        \n",
    "    best_ind = pop[sort_indexes[-1]]\n",
    "    best_score = scores[sort_indexes[-1]]\n",
    "    \n",
    "    return new_pop, best_ind, best_score"
   ]
  },
  {
   "cell_type": "markdown",
   "metadata": {},
   "source": [
    "<h2>Juntando as partes</h2>"
   ]
  },
  {
   "cell_type": "code",
   "execution_count": 10,
   "metadata": {},
   "outputs": [],
   "source": [
    "from sklearn.preprocessing import StandardScaler\n",
    "from sklearn.model_selection import train_test_split\n",
    "from sklearn.datasets import load_breast_cancer\n",
    "# from tqdm import tqdm\n",
    "from copy import copy"
   ]
  },
  {
   "cell_type": "code",
   "execution_count": 11,
   "metadata": {},
   "outputs": [],
   "source": [
    "breast_cancer = load_breast_cancer()\n",
    "x_train, x_test, y_train, y_test = train_test_split(breast_cancer['data'],\n",
    "                                                       breast_cancer['target'],\n",
    "                                                       test_size=0.33)\n",
    "\n",
    "scaler = StandardScaler()\n",
    "x_train = scaler.fit_transform(x_train)\n",
    "x_test = scaler.transform(x_test)"
   ]
  },
  {
   "cell_type": "code",
   "execution_count": null,
   "metadata": {},
   "outputs": [
    {
     "name": "stderr",
     "output_type": "stream",
     "text": [
      "c:\\users\\paula\\appdata\\local\\programs\\python\\python36\\lib\\site-packages\\sklearn\\neural_network\\multilayer_perceptron.py:564: ConvergenceWarning: Stochastic Optimizer: Maximum iterations (200) reached and the optimization hasn't converged yet.\n",
      "  % self.max_iter, ConvergenceWarning)\n"
     ]
    },
    {
     "name": "stdout",
     "output_type": "stream",
     "text": [
      "Melhor modelo até o momento tem 1 camadas com 252 neurônios em cada\n",
      "Melhor valor de acurácia até o momento: 99.0%\n",
      "Melhor modelo até o momento tem 1 camadas com 252 neurônios em cada\n",
      "Melhor valor de acurácia até o momento: 99.0%\n",
      "Melhor modelo até o momento tem 1 camadas com 252 neurônios em cada\n",
      "Melhor valor de acurácia até o momento: 99.0%\n"
     ]
    },
    {
     "name": "stderr",
     "output_type": "stream",
     "text": [
      "c:\\users\\paula\\appdata\\local\\programs\\python\\python36\\lib\\site-packages\\sklearn\\neural_network\\multilayer_perceptron.py:566: UserWarning: Training interrupted by user.\n",
      "  warnings.warn(\"Training interrupted by user.\")\n"
     ]
    }
   ],
   "source": [
    "n_individuos = 20\n",
    "n_geracoes = 100\n",
    "\n",
    "populacao = gerar_populacao(n_individuos)\n",
    "\n",
    "best_ind = None\n",
    "best_score = None\n",
    "\n",
    "for gen in range(n_geracoes):\n",
    "    \n",
    "    np.random.shuffle(populacao)\n",
    "    # Selecao\n",
    "    pais_selecionados = np.random.permutation(n_individuos).reshape(int(n_individuos/2), 2)\n",
    "    \n",
    "    # Cruzamento\n",
    "    for i, j in pais_selecionados:\n",
    "        populacao = populacao + list(crossover(populacao[i], populacao[j]))\n",
    "    \n",
    "    # Mutacao\n",
    "    for ind in populacao:\n",
    "        ind = mutacao(ind)\n",
    "    \n",
    "    # Atualizacao\n",
    "    populacao, best_ind_gen, best_score_gen = atualizacao(populacao, \n",
    "                                                          tam_pop=n_individuos,\n",
    "                                                          x_train=x_train, \n",
    "                                                          y_train=y_train, \n",
    "                                                          x_test=x_test, \n",
    "                                                          y_test=y_test)\n",
    "\n",
    "    \n",
    "    if best_ind is None or best_score_gen > best_score:\n",
    "        best_ind = copy(best_ind_gen)\n",
    "        best_score = best_score_gen\n",
    "    \n",
    "    \n",
    "    info_n_camadas = int(''.join(best_ind[:2]), 2)\n",
    "    info_n_neuronios = int(''.join(best_ind[2:]), 2)\n",
    "    print('Melhor modelo até o momento tem {} camadas com {} neurônios em cada'.format(info_n_camadas, info_n_neuronios))\n",
    "    print('Melhor valor de acurácia até o momento: {}%'.format(np.round(best_score, 2) * 100))\n",
    "        "
   ]
  }
 ],
 "metadata": {
  "kernelspec": {
   "display_name": "Python 3",
   "language": "python",
   "name": "python3"
  },
  "language_info": {
   "codemirror_mode": {
    "name": "ipython",
    "version": 3
   },
   "file_extension": ".py",
   "mimetype": "text/x-python",
   "name": "python",
   "nbconvert_exporter": "python",
   "pygments_lexer": "ipython3",
   "version": "3.6.5"
  }
 },
 "nbformat": 4,
 "nbformat_minor": 2
}
