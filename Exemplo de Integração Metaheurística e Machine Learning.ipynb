{
 "cells": [
  {
   "cell_type": "code",
   "execution_count": 2,
   "metadata": {},
   "outputs": [],
   "source": [
    "import numpy as np\n",
    "import copy\n",
    "from sklearn.svm import SVC\n",
    "from sklearn.datasets import load_breast_cancer\n",
    "from sklearn.model_selection import train_test_split\n",
    "# from tqdm import tqdm_notebook"
   ]
  },
  {
   "cell_type": "code",
   "execution_count": 3,
   "metadata": {},
   "outputs": [],
   "source": [
    "# breast_cancer = load_breast_cancer()\n",
    "# breast_cancer['data'].shape, breast_cancer['target'].shape"
   ]
  },
  {
   "cell_type": "code",
   "execution_count": 4,
   "metadata": {},
   "outputs": [],
   "source": [
    "# train_test_split(breast_cancer['data'], breast_cancer['target'])"
   ]
  },
  {
   "cell_type": "code",
   "execution_count": 5,
   "metadata": {},
   "outputs": [],
   "source": [
    "def vizinhanca(gamma, C):\n",
    "    \n",
    "    gamma_copy = copy.copy(gamma)\n",
    "    C_copy = copy.copy(C)\n",
    "    \n",
    "    gamma = gamma + (2 * np.random.rand() - 1) * gamma\n",
    "    C = C + (2 * np.random.rand() - 1) * C\n",
    "    \n",
    "    while gamma <= 0 or C <= 0:\n",
    "        gamma = gamma_copy\n",
    "        C = C_copy\n",
    "        gamma = gamma + (2 * np.random.rand() - 1) * gamma\n",
    "        C = C + (2 * np.random.rand() - 1) * C\n",
    "        \n",
    "    return gamma, C"
   ]
  },
  {
   "cell_type": "code",
   "execution_count": 6,
   "metadata": {},
   "outputs": [],
   "source": [
    "def prob_aceitacao(valor_s, valor_s1, T):\n",
    "    \n",
    "    return np.exp(-(valor_s1 - valor_s) / T)"
   ]
  },
  {
   "cell_type": "code",
   "execution_count": 7,
   "metadata": {},
   "outputs": [],
   "source": [
    "def f(y_true, y_pred):\n",
    "    \n",
    "    return np.linalg.norm(y_true - y_pred)"
   ]
  },
  {
   "cell_type": "code",
   "execution_count": 1,
   "metadata": {},
   "outputs": [],
   "source": [
    "from sklearn.preprocessing import StandardScaler"
   ]
  },
  {
   "cell_type": "code",
   "execution_count": 8,
   "metadata": {},
   "outputs": [],
   "source": [
    "def simulated_annealing(gamma_inicial, C_inicial, T, alpha, SAmax, max_iter):\n",
    "    \n",
    "    breast_cancer = load_breast_cancer()\n",
    "    X_train, X_test, y_train, y_test = train_test_split(breast_cancer['data'],\n",
    "                                                       breast_cancer['target'],\n",
    "                                                       test_size=0.33)\n",
    "    scaler = StandardScaler()\n",
    "    X_train = scaler.fit_transform(X_train)\n",
    "    X_test = scaler.transform(X_test)\n",
    "    \n",
    "    iterT = 0\n",
    "    i = 0\n",
    "    gamma = gamma_inicial\n",
    "    C = C_inicial\n",
    "    \n",
    "    melhor_gamma = gamma\n",
    "    melhor_C = C\n",
    "    melhor_f = 1e12\n",
    "    \n",
    "    for i in range(max_iter):\n",
    "        while iterT < SAmax:\n",
    "            iterT += 1\n",
    "            svm_s = SVC(gamma=gamma, C=C)\n",
    "            \n",
    "            gamma_s1, C_s1 = vizinhanca(gamma, C)\n",
    "            svm_s1 = SVC(gamma=gamma_s1, C=C_s1)\n",
    "            \n",
    "            svm_s = svm_s.fit(X_train, y_train)\n",
    "            svm_s1 = svm_s1.fit(X_train, y_train)\n",
    "            \n",
    "            y_pred_s = svm_s.predict(X_train)\n",
    "            y_pred_s1 = svm_s1.predict(X_train)\n",
    "            \n",
    "            f_s = f(y_train, y_pred_s)\n",
    "            f_s1 = f(y_train, y_pred_s1)\n",
    "            \n",
    "            if f_s1 <= f_s:\n",
    "                gamma = gamma_s1\n",
    "                C = C_s1\n",
    "                if f_s1 < melhor_f:\n",
    "                    melhor_f = f_s1\n",
    "                    melhor_gamma = gamma\n",
    "                    melhor_C = C\n",
    "            else:\n",
    "                v = np.random.rand()\n",
    "                if v <= prob_aceitacao(f_s, f_s1, T):\n",
    "                    gamma = gamma_s1\n",
    "                    C = C_s1\n",
    "        iterT = 0\n",
    "        T = alpha * T\n",
    "    \n",
    "    print('SA terminado!\\n')\n",
    "    print('Melhor gamma: {}'.format(melhor_gamma))\n",
    "    print('Melhor C: {}'.format(melhor_C))\n",
    "    \n",
    "    print('Treinando modelo final....')\n",
    "    final_svm = SVC(gamma=melhor_gamma, C=melhor_C)\n",
    "    final_svm = final_svm.fit(X_train, y_train)\n",
    "    print('Avaliando acurácia no conjunto de teste...')\n",
    "    accuracy = final_svm.score(X_test, y_test)\n",
    "    print('Acurácia: {}'.format(accuracy))"
   ]
  },
  {
   "cell_type": "code",
   "execution_count": 9,
   "metadata": {},
   "outputs": [
    {
     "name": "stdout",
     "output_type": "stream",
     "text": [
      "SA terminado!\n",
      "\n",
      "Melhor gamma: 0.16726477714046073\n",
      "Melhor C: 4.947348277828492\n",
      "Treinando modelo final....\n",
      "Avaliando acurácia no conjunto de teste...\n",
      "Acurácia: 0.9308510638297872\n"
     ]
    }
   ],
   "source": [
    "simulated_annealing(0.1, 10, 100, 0.5, 100, 10)"
   ]
  },
  {
   "cell_type": "code",
   "execution_count": null,
   "metadata": {},
   "outputs": [],
   "source": []
  }
 ],
 "metadata": {
  "kernelspec": {
   "display_name": "Python 3",
   "language": "python",
   "name": "python3"
  },
  "language_info": {
   "codemirror_mode": {
    "name": "ipython",
    "version": 3
   },
   "file_extension": ".py",
   "mimetype": "text/x-python",
   "name": "python",
   "nbconvert_exporter": "python",
   "pygments_lexer": "ipython3",
   "version": "3.6.5"
  }
 },
 "nbformat": 4,
 "nbformat_minor": 2
}
