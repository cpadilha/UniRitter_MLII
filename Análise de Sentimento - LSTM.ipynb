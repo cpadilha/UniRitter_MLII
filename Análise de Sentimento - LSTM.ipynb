{
  "cells": [
    {
      "metadata": {
        "_uuid": "8f2839f25d086af736a60e9eeb907d3b93b6e0e5",
        "_cell_guid": "b1076dfc-b9ad-4769-8c92-a6c4dae69d19",
        "trusted": true
      },
      "cell_type": "code",
      "source": "import os\nprint(os.listdir(\"../input\"))\n\nimport pandas as pd\nimport numpy as np\nimport bs4\nimport re\nfrom unicodedata import normalize\nfrom nltk.corpus import stopwords\nimport operator\nfrom keras.preprocessing import sequence\nfrom tqdm import tqdm_notebook, tqdm",
      "execution_count": 1,
      "outputs": [
        {
          "output_type": "stream",
          "text": "['imdb-dataset', 'sentiment-labelled-sentences-data-set']\n",
          "name": "stdout"
        },
        {
          "output_type": "stream",
          "text": "Using TensorFlow backend.\n",
          "name": "stderr"
        }
      ]
    },
    {
      "metadata": {
        "_cell_guid": "79c7e3d0-c299-4dcb-8224-4455121ee9b0",
        "_uuid": "d629ff2d2480ee46fbb7e2d37f6b5fab8052498a",
        "trusted": true
      },
      "cell_type": "code",
      "source": "imdb_df = pd.read_csv('../input/imdb-dataset/labeledTrainData.tsv', \n                        delimiter='\\t')",
      "execution_count": 2,
      "outputs": []
    },
    {
      "metadata": {
        "trusted": true,
        "_uuid": "65a3026a6d3bca68a8e1dd516b011bb8147d8cf8"
      },
      "cell_type": "code",
      "source": "imdb_df.head()",
      "execution_count": 3,
      "outputs": [
        {
          "output_type": "execute_result",
          "execution_count": 3,
          "data": {
            "text/plain": "       id                        ...                                                                     review\n0  5814_8                        ...                          With all this stuff going down at the moment w...\n1  2381_9                        ...                          \\The Classic War of the Worlds\\\" by Timothy Hi...\n2  7759_3                        ...                          The film starts with a manager (Nicholas Bell)...\n3  3630_4                        ...                          It must be assumed that those who praised this...\n4  9495_8                        ...                          Superbly trashy and wondrously unpretentious 8...\n\n[5 rows x 3 columns]",
            "text/html": "<div>\n<style scoped>\n    .dataframe tbody tr th:only-of-type {\n        vertical-align: middle;\n    }\n\n    .dataframe tbody tr th {\n        vertical-align: top;\n    }\n\n    .dataframe thead th {\n        text-align: right;\n    }\n</style>\n<table border=\"1\" class=\"dataframe\">\n  <thead>\n    <tr style=\"text-align: right;\">\n      <th></th>\n      <th>id</th>\n      <th>sentiment</th>\n      <th>review</th>\n    </tr>\n  </thead>\n  <tbody>\n    <tr>\n      <th>0</th>\n      <td>5814_8</td>\n      <td>1</td>\n      <td>With all this stuff going down at the moment w...</td>\n    </tr>\n    <tr>\n      <th>1</th>\n      <td>2381_9</td>\n      <td>1</td>\n      <td>\\The Classic War of the Worlds\\\" by Timothy Hi...</td>\n    </tr>\n    <tr>\n      <th>2</th>\n      <td>7759_3</td>\n      <td>0</td>\n      <td>The film starts with a manager (Nicholas Bell)...</td>\n    </tr>\n    <tr>\n      <th>3</th>\n      <td>3630_4</td>\n      <td>0</td>\n      <td>It must be assumed that those who praised this...</td>\n    </tr>\n    <tr>\n      <th>4</th>\n      <td>9495_8</td>\n      <td>1</td>\n      <td>Superbly trashy and wondrously unpretentious 8...</td>\n    </tr>\n  </tbody>\n</table>\n</div>"
          },
          "metadata": {}
        }
      ]
    },
    {
      "metadata": {
        "_uuid": "c75452d617d8e0224f7c824f6231aabca57bc215"
      },
      "cell_type": "markdown",
      "source": "<h1>Processamento dos Comentários</h1>"
    },
    {
      "metadata": {
        "trusted": true,
        "_uuid": "0272877df7652f09752558c3aa9c0e9c3d130050"
      },
      "cell_type": "code",
      "source": "def preprocessing_data(filepath, topwords, maxlen):\n    \n    imdb_data = pd.read_csv(filepath, delimiter='\\t')\n    \n    reviews = []\n    \n    pbar = tqdm_notebook(total=len(imdb_data))\n    for review in imdb_data['review']:\n        # Remover tags HTML\n        review_text = bs4.BeautifulSoup(review, 'html.parser').get_text()\n        \n        # Remover caracteres especiais, pontuacao e numeros\n        review_text = re.sub('[^a-zA-Z]', ' ', review_text)\n        \n        # Converter para caixa baixa\n        review_text = review_text.lower()\n        \n        # Vetorizar o comentário\n        review_words = review_text.split()\n        \n        # Remover stopwords\n        stops = stopwords.words('english')\n        \n        meaningful_words = [word for word in review_words if not word in stops]\n        \n        reviews.append(meaningful_words)\n        pbar.update(1)\n    \n    # Construindo dicionário de frequencia\n    freq_dict = {}\n    \n    for review in reviews:\n        for word in review:\n            if not word in freq_dict:\n                freq_dict[word] = 0\n            freq_dict[word] += 1\n    \n    # Selecionar as top-K palavras (jeito inteligente Ass: carlos)\n    sorted_tup = sorted(freq_dict.items(), key=operator.itemgetter(1), reverse=True)\n    \n    word_to_id = {}\n    cnt = topwords - 1\n    # Top-K palavras\n    for i in sorted_tup[:topwords]:\n        word_to_id[i[0]] = cnt\n        cnt -= 1\n    # Restante\n    for i in sorted_tup[topwords:]:\n        word_to_id[i[0]] = 0\n    \n    # Mapeando palavras para um id do dicionário\n    processed_data = []\n    \n    for review in reviews:\n        aux = []\n        for word in review:\n            aux.append(word_to_id[word])\n        \n        processed_data.append(aux)\n    \n    # Realizando o padding dos comentarios\n    ## importar sequence de keras.preprocessing\n    processed_data = np.asarray(processed_data)\n    processed_data = sequence.pad_sequences(processed_data, maxlen)\n    \n    sentiment = imdb_data['sentiment'].get_values()\n    \n    return processed_data, sentiment, word_to_id",
      "execution_count": 4,
      "outputs": []
    },
    {
      "metadata": {
        "trusted": true,
        "_uuid": "0cf945e49862eda8ad90894c96966dab8a5053b4"
      },
      "cell_type": "code",
      "source": "data, target, word_to_id = preprocessing_data('../input/imdb-dataset/labeledTrainData.tsv', 5000, 100)",
      "execution_count": 5,
      "outputs": [
        {
          "output_type": "display_data",
          "data": {
            "text/plain": "HBox(children=(IntProgress(value=0, max=25000), HTML(value='')))",
            "application/vnd.jupyter.widget-view+json": {
              "version_major": 2,
              "version_minor": 0,
              "model_id": "f7dc6b57876b4ffd9bdeb3eaa8130f1a"
            }
          },
          "metadata": {}
        }
      ]
    },
    {
      "metadata": {
        "trusted": true,
        "_uuid": "5542d9aaa843875c9f7bedbcf244b9d44382923f"
      },
      "cell_type": "code",
      "source": "data[0], target[0]",
      "execution_count": 6,
      "outputs": [
        {
          "output_type": "execute_result",
          "execution_count": 6,
          "data": {
            "text/plain": "(array([3500, 4612,    0, 4835, 1038,    0, 4885, 4373, 4501, 4921, 4996,\n           0, 3570, 4620, 2837, 4886, 3081, 2497, 4426, 4983, 4940, 4900,\n         125,    0, 4740, 3732,    0, 4985, 4426, 4507, 4256, 4363, 4369,\n        4997, 4606, 4836, 4554, 4886, 4385, 1734, 3840, 4316, 4952, 3825,\n        4776, 4999, 4984, 4996,    0, 4997, 4493, 4938, 4975, 4984, 4360,\n        4867, 4769, 4905,    0, 4400, 1561,    0,    0, 3136, 4999, 4872,\n        4658, 3558, 4753, 4997, 4135, 4984, 4958, 3513, 4003, 2667, 4988,\n        4451, 4614, 4283,    0, 4988, 4959, 4984, 4842, 4638,  608, 1612,\n        4959, 4913, 4775, 4562, 4793, 4746, 4883, 4997,    0,    0, 4684,\n        3644], dtype=int32), 1)"
          },
          "metadata": {}
        }
      ]
    },
    {
      "metadata": {
        "_uuid": "a4431e3658d126817a3e4c1be4652cacf684991d"
      },
      "cell_type": "markdown",
      "source": "<h1>Criando o Modelo</h1>"
    },
    {
      "metadata": {
        "trusted": true,
        "_uuid": "a51a0361b1981c93083ab53108422f7b3eba70f6"
      },
      "cell_type": "code",
      "source": "from keras.models import Model\nfrom keras.layers import *",
      "execution_count": 7,
      "outputs": []
    },
    {
      "metadata": {
        "trusted": true,
        "_uuid": "039e47bcc1c5f5433954cb95327e4ad4ea2380a7"
      },
      "cell_type": "code",
      "source": "input_node = Input(shape=(100,))\n\nembedding = Embedding(input_dim=5000, \n                      input_length=100, \n                      output_dim=32)(input_node)\ndropout = Dropout(0.5)(embedding)\nlstm_1 = LSTM(100)(dropout)\ndropout = Dropout(0.5)(lstm_1)\nfc1 = Dense(1, activation='sigmoid')(dropout)\n\nmodel = Model(input_node, fc1)\nmodel.summary()",
      "execution_count": 8,
      "outputs": [
        {
          "output_type": "stream",
          "text": "_________________________________________________________________\nLayer (type)                 Output Shape              Param #   \n=================================================================\ninput_1 (InputLayer)         (None, 100)               0         \n_________________________________________________________________\nembedding_1 (Embedding)      (None, 100, 32)           160000    \n_________________________________________________________________\ndropout_1 (Dropout)          (None, 100, 32)           0         \n_________________________________________________________________\nlstm_1 (LSTM)                (None, 100)               53200     \n_________________________________________________________________\ndropout_2 (Dropout)          (None, 100)               0         \n_________________________________________________________________\ndense_1 (Dense)              (None, 1)                 101       \n=================================================================\nTotal params: 213,301\nTrainable params: 213,301\nNon-trainable params: 0\n_________________________________________________________________\n",
          "name": "stdout"
        }
      ]
    },
    {
      "metadata": {
        "trusted": true,
        "_uuid": "1cd5b33fb47be90024b39c8c05bfd0a6afeee25d"
      },
      "cell_type": "code",
      "source": "model.compile(loss='binary_crossentropy', optimizer='Adam',\n              metrics=['accuracy'])",
      "execution_count": 9,
      "outputs": []
    },
    {
      "metadata": {
        "trusted": true,
        "_uuid": "17b4d53815d4a65967a11667c6fac8a5fd6d7e65"
      },
      "cell_type": "code",
      "source": "from sklearn.model_selection import train_test_split",
      "execution_count": 10,
      "outputs": []
    },
    {
      "metadata": {
        "trusted": true,
        "_uuid": "9dd1e5f39fd40f493570eefac713d9a6951f520f",
        "scrolled": true
      },
      "cell_type": "code",
      "source": "X_train, X_test, y_train, y_test = train_test_split(data, target, \n                                                    test_size=0.33)",
      "execution_count": 11,
      "outputs": []
    },
    {
      "metadata": {
        "trusted": true,
        "_uuid": "523acdb34b50ac51d55289bc1d9dd04be635caee"
      },
      "cell_type": "code",
      "source": "from keras.callbacks import *",
      "execution_count": 12,
      "outputs": []
    },
    {
      "metadata": {
        "trusted": true,
        "_uuid": "a2f26137f04671bbec8644645ed2728f4f68a62b"
      },
      "cell_type": "code",
      "source": "early_stopping = EarlyStopping(monitor='val_loss', min_delta=1e-6, patience=3)",
      "execution_count": 13,
      "outputs": []
    },
    {
      "metadata": {
        "trusted": true,
        "_uuid": "683fe20b2742c3bd2a9d90263e13fcf3fbd592c7"
      },
      "cell_type": "code",
      "source": "cb_list = [early_stopping]",
      "execution_count": 14,
      "outputs": []
    },
    {
      "metadata": {
        "trusted": true,
        "_uuid": "e2db4c0f0c8cc852c22f6c85cb1c6d278880206c"
      },
      "cell_type": "code",
      "source": "model.fit(X_train, y_train, batch_size=64, epochs=20,\n         validation_data=(X_test, y_test), callbacks=cb_list)",
      "execution_count": 15,
      "outputs": [
        {
          "output_type": "stream",
          "text": "Train on 16750 samples, validate on 8250 samples\nEpoch 1/20\n16750/16750 [==============================] - 69s 4ms/step - loss: 0.4786 - acc: 0.7577 - val_loss: 0.3431 - val_acc: 0.8535\nEpoch 2/20\n16750/16750 [==============================] - 68s 4ms/step - loss: 0.2885 - acc: 0.8844 - val_loss: 0.3301 - val_acc: 0.8685\nEpoch 3/20\n16750/16750 [==============================] - 68s 4ms/step - loss: 0.2412 - acc: 0.9041 - val_loss: 0.3618 - val_acc: 0.8613\nEpoch 4/20\n16750/16750 [==============================] - 69s 4ms/step - loss: 0.2092 - acc: 0.9198 - val_loss: 0.3613 - val_acc: 0.8539\nEpoch 5/20\n16750/16750 [==============================] - 68s 4ms/step - loss: 0.1972 - acc: 0.9240 - val_loss: 0.3730 - val_acc: 0.8570\n",
          "name": "stdout"
        },
        {
          "output_type": "execute_result",
          "execution_count": 15,
          "data": {
            "text/plain": "<keras.callbacks.History at 0x7f03b80a0a20>"
          },
          "metadata": {}
        }
      ]
    },
    {
      "metadata": {
        "trusted": true,
        "_uuid": "699974c7ffbe925380fba093b2999a83b6d2de9b"
      },
      "cell_type": "markdown",
      "source": "<h2>Testar nova entrada</h2>"
    },
    {
      "metadata": {
        "trusted": true,
        "_uuid": "45eea8ad3b08a9873739656b190e63e9ed63664e"
      },
      "cell_type": "code",
      "source": "new_review = 'This movie was awesome'\n\n# Remover tags HTML\nreview_text = bs4.BeautifulSoup(new_review, 'html.parser').get_text()\n# Remover caracteres especiais, pontuacao e numeros\nreview_text = re.sub('[^a-zA-Z]', ' ', review_text)\n# Converter para caixa baixa\nreview_text = review_text.lower()\n# Vetorizar o comentário\nreview_words = review_text.split()\n# Remover stopwords\nstops = stopwords.words('english')\n\nmeaningful_words = [word for word in review_words if not word in stops]\n\nprocessed_new_reviews = []\nfor word in meaningful_words:\n    processed_new_reviews.append(word_to_id[word])\n\nprocessed_data = np.asarray(processed_new_reviews).reshape(1, len(processed_new_reviews))\nprocessed_data = sequence.pad_sequences(processed_data, 100)",
      "execution_count": 16,
      "outputs": []
    },
    {
      "metadata": {
        "trusted": true,
        "_uuid": "d04d746def698f80d397b0af82d69120f31d9f0c"
      },
      "cell_type": "code",
      "source": "processed_data",
      "execution_count": 18,
      "outputs": [
        {
          "output_type": "execute_result",
          "execution_count": 18,
          "data": {
            "text/plain": "array([[   0,    0,    0,    0,    0,    0,    0,    0,    0,    0,    0,\n           0,    0,    0,    0,    0,    0,    0,    0,    0,    0,    0,\n           0,    0,    0,    0,    0,    0,    0,    0,    0,    0,    0,\n           0,    0,    0,    0,    0,    0,    0,    0,    0,    0,    0,\n           0,    0,    0,    0,    0,    0,    0,    0,    0,    0,    0,\n           0,    0,    0,    0,    0,    0,    0,    0,    0,    0,    0,\n           0,    0,    0,    0,    0,    0,    0,    0,    0,    0,    0,\n           0,    0,    0,    0,    0,    0,    0,    0,    0,    0,    0,\n           0,    0,    0,    0,    0,    0,    0,    0,    0,    0, 4999,\n        3970]], dtype=int32)"
          },
          "metadata": {}
        }
      ]
    },
    {
      "metadata": {
        "trusted": true,
        "_uuid": "0702e5f52f8f65ae076ef2d75f060a510777b7ab"
      },
      "cell_type": "code",
      "source": "y_pred = model.predict(processed_data)[0]\n\nif np.round(y_pred) == 1:\n    sent = 'positivo'\nelse:\n    sent = 'negativo'\n\nprint('A predição do sentimento para a entrada \\\"{}\\\" é {}'.format(new_review, sent))",
      "execution_count": 17,
      "outputs": [
        {
          "output_type": "stream",
          "text": "A predição do sentimento para a entrada \"This movie was awesome\" é positivo\n",
          "name": "stdout"
        }
      ]
    },
    {
      "metadata": {
        "trusted": true,
        "_uuid": "a0eec7abf27f72ae6e6926809c568ef329295dbe"
      },
      "cell_type": "code",
      "source": "y_pred",
      "execution_count": 19,
      "outputs": [
        {
          "output_type": "execute_result",
          "execution_count": 19,
          "data": {
            "text/plain": "array([0.5665269], dtype=float32)"
          },
          "metadata": {}
        }
      ]
    },
    {
      "metadata": {
        "trusted": true,
        "_uuid": "8c1f4ae38ee28c3301cbde6f0da3b19e7b537715"
      },
      "cell_type": "code",
      "source": "",
      "execution_count": null,
      "outputs": []
    },
    {
      "metadata": {
        "_uuid": "dc488e0cc60e3914f2e8f4e0a670fa5ee9840c6c"
      },
      "cell_type": "markdown",
      "source": ""
    },
    {
      "metadata": {
        "_uuid": "f2195f5cfcc04af5ee076eb9edb0f47d8133345e"
      },
      "cell_type": "markdown",
      "source": ""
    }
  ],
  "metadata": {
    "kernelspec": {
      "display_name": "Python 3",
      "language": "python",
      "name": "python3"
    },
    "language_info": {
      "name": "python",
      "version": "3.6.6",
      "mimetype": "text/x-python",
      "codemirror_mode": {
        "name": "ipython",
        "version": 3
      },
      "pygments_lexer": "ipython3",
      "nbconvert_exporter": "python",
      "file_extension": ".py"
    }
  },
  "nbformat": 4,
  "nbformat_minor": 1
}